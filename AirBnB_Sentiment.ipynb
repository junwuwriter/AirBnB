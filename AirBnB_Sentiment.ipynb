{
 "cells": [
  {
   "cell_type": "code",
   "execution_count": 1,
   "metadata": {},
   "outputs": [],
   "source": [
    "import numpy as np \n",
    "import pandas as pd \n",
    "import re  \n",
    "import nltk \n",
    "from nltk.corpus import stopwords\n",
    "import AirBnB as ab\n",
    "from nltk.corpus import wordnet\n",
    "import string\n",
    "from nltk import pos_tag\n",
    "from nltk.corpus import stopwords\n",
    "from nltk.tokenize import WhitespaceTokenizer\n",
    "from nltk.stem import WordNetLemmatizer\n",
    "import nltk\n",
    "from sklearn.metrics import classification_report, confusion_matrix, accuracy_score"
   ]
  },
  {
   "cell_type": "code",
   "execution_count": 2,
   "metadata": {},
   "outputs": [],
   "source": [
    "# Read in the reviews.csv file. \n",
    "\n",
    "file_path=\"./reviews.csv\"\n",
    "reviews_df=ab.read_file(file_path) \n",
    "five_lines=ab.get_five_lines(reviews_df)"
   ]
  },
  {
   "cell_type": "code",
   "execution_count": 3,
   "metadata": {},
   "outputs": [],
   "source": [
    "# Read in the reviews.csv file. \n",
    "file_path=\"./listings.csv\"\n",
    "listings_df=ab.read_file(file_path) \n",
    "five_lines=ab.get_five_lines(listings_df)"
   ]
  },
  {
   "cell_type": "code",
   "execution_count": 4,
   "metadata": {},
   "outputs": [
    {
     "data": {
      "text/html": [
       "<div>\n",
       "<style scoped>\n",
       "    .dataframe tbody tr th:only-of-type {\n",
       "        vertical-align: middle;\n",
       "    }\n",
       "\n",
       "    .dataframe tbody tr th {\n",
       "        vertical-align: top;\n",
       "    }\n",
       "\n",
       "    .dataframe thead th {\n",
       "        text-align: right;\n",
       "    }\n",
       "</style>\n",
       "<table border=\"1\" class=\"dataframe\">\n",
       "  <thead>\n",
       "    <tr style=\"text-align: right;\">\n",
       "      <th></th>\n",
       "      <th>listing_id</th>\n",
       "      <th>id</th>\n",
       "      <th>date</th>\n",
       "      <th>reviewer_id</th>\n",
       "      <th>reviewer_name</th>\n",
       "      <th>comments</th>\n",
       "      <th>review_clean</th>\n",
       "    </tr>\n",
       "  </thead>\n",
       "  <tbody>\n",
       "    <tr>\n",
       "      <td>0</td>\n",
       "      <td>7202016</td>\n",
       "      <td>38917982</td>\n",
       "      <td>2015-07-19</td>\n",
       "      <td>28943674</td>\n",
       "      <td>Bianca</td>\n",
       "      <td>Cute and cozy place. Perfect location to every...</td>\n",
       "      <td>cute cozy place perfect location everything</td>\n",
       "    </tr>\n",
       "    <tr>\n",
       "      <td>1</td>\n",
       "      <td>7202016</td>\n",
       "      <td>39087409</td>\n",
       "      <td>2015-07-20</td>\n",
       "      <td>32440555</td>\n",
       "      <td>Frank</td>\n",
       "      <td>Kelly has a great room in a very central locat...</td>\n",
       "      <td>kelly great room central location \\r\\nbeautifu...</td>\n",
       "    </tr>\n",
       "    <tr>\n",
       "      <td>2</td>\n",
       "      <td>7202016</td>\n",
       "      <td>39820030</td>\n",
       "      <td>2015-07-26</td>\n",
       "      <td>37722850</td>\n",
       "      <td>Ian</td>\n",
       "      <td>Very spacious apartment, and in a great neighb...</td>\n",
       "      <td>spacious apartment great neighborhood kind apa...</td>\n",
       "    </tr>\n",
       "    <tr>\n",
       "      <td>3</td>\n",
       "      <td>7202016</td>\n",
       "      <td>40813543</td>\n",
       "      <td>2015-08-02</td>\n",
       "      <td>33671805</td>\n",
       "      <td>George</td>\n",
       "      <td>Close to Seattle Center and all it has to offe...</td>\n",
       "      <td>close seattle center offer ballet theater muse...</td>\n",
       "    </tr>\n",
       "    <tr>\n",
       "      <td>4</td>\n",
       "      <td>7202016</td>\n",
       "      <td>41986501</td>\n",
       "      <td>2015-08-10</td>\n",
       "      <td>34959538</td>\n",
       "      <td>Ming</td>\n",
       "      <td>Kelly was a great host and very accommodating ...</td>\n",
       "      <td>kelly great host accommodate great neighborhoo...</td>\n",
       "    </tr>\n",
       "  </tbody>\n",
       "</table>\n",
       "</div>"
      ],
      "text/plain": [
       "   listing_id        id        date  reviewer_id reviewer_name  \\\n",
       "0     7202016  38917982  2015-07-19     28943674        Bianca   \n",
       "1     7202016  39087409  2015-07-20     32440555         Frank   \n",
       "2     7202016  39820030  2015-07-26     37722850           Ian   \n",
       "3     7202016  40813543  2015-08-02     33671805        George   \n",
       "4     7202016  41986501  2015-08-10     34959538          Ming   \n",
       "\n",
       "                                            comments  \\\n",
       "0  Cute and cozy place. Perfect location to every...   \n",
       "1  Kelly has a great room in a very central locat...   \n",
       "2  Very spacious apartment, and in a great neighb...   \n",
       "3  Close to Seattle Center and all it has to offe...   \n",
       "4  Kelly was a great host and very accommodating ...   \n",
       "\n",
       "                                        review_clean  \n",
       "0        cute cozy place perfect location everything  \n",
       "1  kelly great room central location \\r\\nbeautifu...  \n",
       "2  spacious apartment great neighborhood kind apa...  \n",
       "3  close seattle center offer ballet theater muse...  \n",
       "4  kelly great host accommodate great neighborhoo...  "
      ]
     },
     "execution_count": 4,
     "metadata": {},
     "output_type": "execute_result"
    }
   ],
   "source": [
    "# Checking and cleaning comments inside the review file\n",
    "cols=['listing_id','reviewer_id','reviewer_name','comments']\n",
    "listing_reviews_df=reviews_df[cols]\n",
    "listing_reviews_df.shape\n",
    "reviews_df.dtypes\n",
    "reviews_df['comments']=reviews_df['comments'].astype(str)\n",
    "reviews_df[\"review_clean\"] = reviews_df[\"comments\"].apply(lambda x: ab.clean_text(x))\n",
    "reviews_df.head()"
   ]
  },
  {
   "cell_type": "code",
   "execution_count": 5,
   "metadata": {},
   "outputs": [],
   "source": [
    "#Getting the listings and review scores\n",
    "cols=['id','review_scores_rating']\n",
    "listings_df=listings_df[cols]\n",
    "listings_df=listings_df.rename(columns={\"id\":'listing_id'})"
   ]
  },
  {
   "cell_type": "code",
   "execution_count": 6,
   "metadata": {},
   "outputs": [
    {
     "data": {
      "text/html": [
       "<div>\n",
       "<style scoped>\n",
       "    .dataframe tbody tr th:only-of-type {\n",
       "        vertical-align: middle;\n",
       "    }\n",
       "\n",
       "    .dataframe tbody tr th {\n",
       "        vertical-align: top;\n",
       "    }\n",
       "\n",
       "    .dataframe thead th {\n",
       "        text-align: right;\n",
       "    }\n",
       "</style>\n",
       "<table border=\"1\" class=\"dataframe\">\n",
       "  <thead>\n",
       "    <tr style=\"text-align: right;\">\n",
       "      <th></th>\n",
       "      <th>listing_id</th>\n",
       "      <th>review_scores_rating</th>\n",
       "      <th>id</th>\n",
       "      <th>date</th>\n",
       "      <th>reviewer_id</th>\n",
       "      <th>reviewer_name</th>\n",
       "      <th>comments</th>\n",
       "      <th>review_clean</th>\n",
       "      <th>review_scores_rating_bins</th>\n",
       "      <th>score_sentiment</th>\n",
       "    </tr>\n",
       "  </thead>\n",
       "  <tbody>\n",
       "    <tr>\n",
       "      <td>0</td>\n",
       "      <td>241032</td>\n",
       "      <td>95.0</td>\n",
       "      <td>682061</td>\n",
       "      <td>2011-11-01</td>\n",
       "      <td>479824</td>\n",
       "      <td>Bro</td>\n",
       "      <td>Excellent all the way around. \\r\\n\\r\\nMaija wa...</td>\n",
       "      <td>excellent way around \\r\\n\\r\\nmaija excellent h...</td>\n",
       "      <td>(90.0, 95.0]</td>\n",
       "      <td>Good</td>\n",
       "    </tr>\n",
       "    <tr>\n",
       "      <td>1</td>\n",
       "      <td>241032</td>\n",
       "      <td>95.0</td>\n",
       "      <td>691712</td>\n",
       "      <td>2011-11-04</td>\n",
       "      <td>357699</td>\n",
       "      <td>Megan</td>\n",
       "      <td>Maija's apartment was a wonderful place to sta...</td>\n",
       "      <td>maija's apartment wonderful place stay extreme...</td>\n",
       "      <td>(90.0, 95.0]</td>\n",
       "      <td>Good</td>\n",
       "    </tr>\n",
       "    <tr>\n",
       "      <td>2</td>\n",
       "      <td>241032</td>\n",
       "      <td>95.0</td>\n",
       "      <td>702999</td>\n",
       "      <td>2011-11-08</td>\n",
       "      <td>1285567</td>\n",
       "      <td>Marylee</td>\n",
       "      <td>one of the most pleasant stays i've had in my ...</td>\n",
       "      <td>one pleasant stay i've travel maija wonderful ...</td>\n",
       "      <td>(90.0, 95.0]</td>\n",
       "      <td>Good</td>\n",
       "    </tr>\n",
       "    <tr>\n",
       "      <td>3</td>\n",
       "      <td>241032</td>\n",
       "      <td>95.0</td>\n",
       "      <td>717262</td>\n",
       "      <td>2011-11-14</td>\n",
       "      <td>647857</td>\n",
       "      <td>Graham</td>\n",
       "      <td>Maija's suite is beautiful, cozy and convenien...</td>\n",
       "      <td>maija's suite beautiful cozy conveniently loca...</td>\n",
       "      <td>(90.0, 95.0]</td>\n",
       "      <td>Good</td>\n",
       "    </tr>\n",
       "    <tr>\n",
       "      <td>4</td>\n",
       "      <td>241032</td>\n",
       "      <td>95.0</td>\n",
       "      <td>730226</td>\n",
       "      <td>2011-11-19</td>\n",
       "      <td>1389821</td>\n",
       "      <td>Franka</td>\n",
       "      <td>Our stay was short and pleasant. With its own ...</td>\n",
       "      <td>stay short pleasant porch space flat boost lot...</td>\n",
       "      <td>(90.0, 95.0]</td>\n",
       "      <td>Good</td>\n",
       "    </tr>\n",
       "  </tbody>\n",
       "</table>\n",
       "</div>"
      ],
      "text/plain": [
       "   listing_id  review_scores_rating      id        date  reviewer_id  \\\n",
       "0      241032                  95.0  682061  2011-11-01       479824   \n",
       "1      241032                  95.0  691712  2011-11-04       357699   \n",
       "2      241032                  95.0  702999  2011-11-08      1285567   \n",
       "3      241032                  95.0  717262  2011-11-14       647857   \n",
       "4      241032                  95.0  730226  2011-11-19      1389821   \n",
       "\n",
       "  reviewer_name                                           comments  \\\n",
       "0           Bro  Excellent all the way around. \\r\\n\\r\\nMaija wa...   \n",
       "1         Megan  Maija's apartment was a wonderful place to sta...   \n",
       "2       Marylee  one of the most pleasant stays i've had in my ...   \n",
       "3        Graham  Maija's suite is beautiful, cozy and convenien...   \n",
       "4        Franka  Our stay was short and pleasant. With its own ...   \n",
       "\n",
       "                                        review_clean  \\\n",
       "0  excellent way around \\r\\n\\r\\nmaija excellent h...   \n",
       "1  maija's apartment wonderful place stay extreme...   \n",
       "2  one pleasant stay i've travel maija wonderful ...   \n",
       "3  maija's suite beautiful cozy conveniently loca...   \n",
       "4  stay short pleasant porch space flat boost lot...   \n",
       "\n",
       "  review_scores_rating_bins score_sentiment  \n",
       "0              (90.0, 95.0]            Good  \n",
       "1              (90.0, 95.0]            Good  \n",
       "2              (90.0, 95.0]            Good  \n",
       "3              (90.0, 95.0]            Good  \n",
       "4              (90.0, 95.0]            Good  "
      ]
     },
     "execution_count": 6,
     "metadata": {},
     "output_type": "execute_result"
    }
   ],
   "source": [
    "# Binning the review scores and figuring out the buckets to create score_sentiment column\n",
    "listings_reviews_df = pd.merge(left=listings_df, right=reviews_df, left_on='listing_id', right_on='listing_id')\n",
    "listings_reviews_df.shape\n",
    "listings_reviews_df['review_scores_rating']=listings_reviews_df['review_scores_rating'].astype('float')\n",
    "listings_reviews_df.head()\n",
    "listings_reviews_df['review_scores_rating_bins']=pd.cut(listings_reviews_df.review_scores_rating,bins = [0,85.0,90.0,95.0,97.0,100.0])\n",
    "listings_reviews_df.head()\n",
    "listings_reviews_df['review_scores_rating_bins'].value_counts().sort_index()\n",
    "listings_reviews_df['score_sentiment']=pd.cut(listings_reviews_df.review_scores_rating,bins = [0,85.0,90.0,95.0,97.0,100.0],labels=['Bad','Fair','Good','Average','Best'])\n",
    "listings_reviews_df.head()\n"
   ]
  },
  {
   "cell_type": "code",
   "execution_count": 7,
   "metadata": {},
   "outputs": [
    {
     "data": {
      "text/plain": [
       "(84829, 10)"
      ]
     },
     "execution_count": 7,
     "metadata": {},
     "output_type": "execute_result"
    }
   ],
   "source": [
    "# Checking for nulls in score_sentiment\n",
    "listings_reviews_df['score_sentiment'].isnull().sum()\n",
    "listings_reviews_df.dropna(subset=['score_sentiment'], how='all', inplace=True)\n",
    "listings_reviews_df.shape\n",
    "listings_reviews_df['score_sentiment'].isnull().sum()\n",
    "listings_reviews_df.shape"
   ]
  },
  {
   "cell_type": "code",
   "execution_count": 8,
   "metadata": {},
   "outputs": [],
   "source": [
    "# Running the model and getting the predictions\n",
    "predictions, confusion_matrix, classification_report, accuracy_score = ab.clean_fit_tfdf_random_forest(listings_reviews_df, 'review_clean', 'score_sentiment', 0.4, 0, 100, 2000, 5, 0.7)"
   ]
  },
  {
   "cell_type": "code",
   "execution_count": 9,
   "metadata": {},
   "outputs": [
    {
     "name": "stdout",
     "output_type": "stream",
     "text": [
      "[[3322    8 1254   16 4510]\n",
      " [  65  150   59   46  883]\n",
      " [ 824    8 3997   18 4048]\n",
      " [ 217   34  216  224 1977]\n",
      " [ 940   11 1185   42 9878]]\n",
      "[[3322    8 1254   16 4510]\n",
      " [  65  150   59   46  883]\n",
      " [ 824    8 3997   18 4048]\n",
      " [ 217   34  216  224 1977]\n",
      " [ 940   11 1185   42 9878]]\n",
      "0.5178297772014617\n"
     ]
    }
   ],
   "source": [
    "# printing out the output from the modelling\n",
    "print(confusion_matrix)  "
   ]
  },
  {
   "cell_type": "code",
   "execution_count": 10,
   "metadata": {},
   "outputs": [
    {
     "name": "stdout",
     "output_type": "stream",
     "text": [
      "[[3322    8 1254   16 4510]\n",
      " [  65  150   59   46  883]\n",
      " [ 824    8 3997   18 4048]\n",
      " [ 217   34  216  224 1977]\n",
      " [ 940   11 1185   42 9878]]\n"
     ]
    }
   ],
   "source": [
    "print(classification_report)"
   ]
  },
  {
   "cell_type": "code",
   "execution_count": 11,
   "metadata": {},
   "outputs": [
    {
     "name": "stdout",
     "output_type": "stream",
     "text": [
      "0.5178297772014617\n"
     ]
    }
   ],
   "source": [
    "print(accuracy_score)"
   ]
  },
  {
   "cell_type": "code",
   "execution_count": null,
   "metadata": {},
   "outputs": [],
   "source": []
  }
 ],
 "metadata": {
  "kernelspec": {
   "display_name": "Python 3",
   "language": "python",
   "name": "python3"
  },
  "language_info": {
   "codemirror_mode": {
    "name": "ipython",
    "version": 3
   },
   "file_extension": ".py",
   "mimetype": "text/x-python",
   "name": "python",
   "nbconvert_exporter": "python",
   "pygments_lexer": "ipython3",
   "version": "3.7.4"
  }
 },
 "nbformat": 4,
 "nbformat_minor": 4
}
