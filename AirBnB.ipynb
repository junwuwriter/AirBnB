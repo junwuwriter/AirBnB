{
 "cells": [
  {
   "cell_type": "code",
   "execution_count": 114,
   "metadata": {},
   "outputs": [],
   "source": [
    "import numpy as np\n",
    "import pandas as pd\n",
    "import matplotlib.pyplot as plt\n",
    "from matplotlib import cm\n",
    "%matplotlib inline\n",
    "from sklearn.linear_model import LinearRegression\n",
    "from sklearn.model_selection import train_test_split\n",
    "from sklearn.metrics import r2_score, mean_squared_error, roc_curve,roc_auc_score\n",
    "import AirBnB as ab"
   ]
  },
  {
   "cell_type": "code",
   "execution_count": 69,
   "metadata": {},
   "outputs": [],
   "source": [
    "#Get the airbnb data and look at the first 5 lines: calendar.csv, listings.csv, reviews.csv\n",
    "\n",
    "file_path=\"./calendar.csv\"\n",
    "fpath=\"./\"\n",
    "fname=\"temp_output.csv\"\n",
    "\n",
    "calendar_df=ab.read_file(file_path) \n",
    "five_lines=ab.get_five_lines(calendar_df)\n",
    "\n",
    "file_path=\"./listings.csv\"\n",
    "listings_df=ab.read_file(file_path) \n",
    "five_lines=ab.get_five_lines(listings_df)\n",
    "\n",
    "file_path=\"./reviews.csv\"\n",
    "reviews_df=ab.read_file(file_path) \n",
    "five_lines=ab.get_five_lines(reviews_df)\n"
   ]
  },
  {
   "cell_type": "code",
   "execution_count": 70,
   "metadata": {},
   "outputs": [
    {
     "data": {
      "text/plain": [
       "{'available', 'date', 'listing_id'}"
      ]
     },
     "execution_count": 70,
     "metadata": {},
     "output_type": "execute_result"
    }
   ],
   "source": [
    "#Checking for missing data in calendar.csv\n",
    "\n",
    "ab.get_no_missing_cols(calendar_df)"
   ]
  },
  {
   "cell_type": "code",
   "execution_count": 71,
   "metadata": {},
   "outputs": [
    {
     "data": {
      "text/plain": [
       "(1393570, 4)"
      ]
     },
     "execution_count": 71,
     "metadata": {},
     "output_type": "execute_result"
    }
   ],
   "source": [
    "#Getting the shape\n",
    "calendar_df.shape"
   ]
  },
  {
   "cell_type": "code",
   "execution_count": 72,
   "metadata": {},
   "outputs": [
    {
     "data": {
      "text/plain": [
       "3     118358\n",
       "5     118358\n",
       "7     118358\n",
       "8     118358\n",
       "10    118358\n",
       "12    118358\n",
       "1     114540\n",
       "4     114540\n",
       "6     114540\n",
       "9     114540\n",
       "11    114540\n",
       "2     110722\n",
       "Name: month, dtype: int64"
      ]
     },
     "execution_count": 72,
     "metadata": {},
     "output_type": "execute_result"
    }
   ],
   "source": [
    "# Taking the first file calendar.csv and asking the following questions\n",
    "# 1) What are the busiest times of the year to visit Seattle?\n",
    "\n",
    "calendar_df['year'] = pd.DatetimeIndex(calendar_df['date']).year\n",
    "calendar_df['month'] = pd.DatetimeIndex(calendar_df['date']).month\n",
    "calendar_df.head()\n",
    "pd.unique(calendar_df['month'])\n",
    "calendar_df['month'].value_counts()\n",
    "calendar_df['month'].value_counts().sort_values(ascending=False)"
   ]
  },
  {
   "cell_type": "code",
   "execution_count": 73,
   "metadata": {},
   "outputs": [
    {
     "data": {
      "text/plain": [
       "listing_id     int64\n",
       "date          object\n",
       "available     object\n",
       "price         object\n",
       "year           int64\n",
       "month          int64\n",
       "dtype: object"
      ]
     },
     "execution_count": 73,
     "metadata": {},
     "output_type": "execute_result"
    }
   ],
   "source": [
    "# How much price data are we missing? \n",
    "calendar_df.isnull().mean()\n",
    "calendar_df.dtypes"
   ]
  },
  {
   "cell_type": "code",
   "execution_count": 74,
   "metadata": {},
   "outputs": [
    {
     "data": {
      "text/plain": [
       "0.31848431594540855"
      ]
     },
     "execution_count": 74,
     "metadata": {},
     "output_type": "execute_result"
    }
   ],
   "source": [
    "#Checking for the busiest months missing data - inline with main months, decide to drop na\n",
    "categories=[12,10,8,7,5,3]\n",
    "busiest_df=calendar_df[calendar_df['month'].isin(categories)]\n",
    "busiest_df['price'].isnull().mean()"
   ]
  },
  {
   "cell_type": "code",
   "execution_count": 75,
   "metadata": {},
   "outputs": [],
   "source": [
    "# Putting price into float to be able to process further\n",
    "calendar_df['price'] = calendar_df['price'].str.replace(',','').str.replace('$','').astype('float')"
   ]
  },
  {
   "cell_type": "code",
   "execution_count": 76,
   "metadata": {},
   "outputs": [
    {
     "data": {
      "text/plain": [
       "<matplotlib.axes._subplots.AxesSubplot at 0x7faffb0d1d90>"
      ]
     },
     "execution_count": 76,
     "metadata": {},
     "output_type": "execute_result"
    },
    {
     "data": {
      "image/png": "[encoded data removed]",
      "text/plain": [
       "<Figure size 432x288 with 1 Axes>"
      ]
     },
     "metadata": {
      "needs_background": "light"
     },
     "output_type": "display_data"
    }
   ],
   "source": [
    "# 2) How much do prices spike over the most frequently booked months\n",
    "\n",
    "# drop na\n",
    "calendar_df.dropna(inplace=True)\n",
    "\n",
    "#getting the mean price and sort values\n",
    "price_df=calendar_df.groupby([\"month\"]).price.mean().to_frame()\n",
    "\n",
    "price_df=price_df.sort_values(by='price')\n",
    "\n",
    "#plotting the whole thing\n",
    "color = cm.inferno_r(np.linspace(.4, .8, 12))\n",
    "\n",
    "price_df.plot(kind='bar', stacked=True, color=color)\n"
   ]
  },
  {
   "cell_type": "code",
   "execution_count": 77,
   "metadata": {},
   "outputs": [
    {
     "name": "stdout",
     "output_type": "stream",
     "text": [
      "134.78682203437413\n"
     ]
    },
    {
     "data": {
      "text/html": [
       "<div>\n",
       "<style scoped>\n",
       "    .dataframe tbody tr th:only-of-type {\n",
       "        vertical-align: middle;\n",
       "    }\n",
       "\n",
       "    .dataframe tbody tr th {\n",
       "        vertical-align: top;\n",
       "    }\n",
       "\n",
       "    .dataframe thead th {\n",
       "        text-align: right;\n",
       "    }\n",
       "</style>\n",
       "<table border=\"1\" class=\"dataframe\">\n",
       "  <thead>\n",
       "    <tr style=\"text-align: right;\">\n",
       "      <th></th>\n",
       "      <th>price</th>\n",
       "      <th>spike</th>\n",
       "    </tr>\n",
       "    <tr>\n",
       "      <th>month</th>\n",
       "      <th></th>\n",
       "      <th></th>\n",
       "    </tr>\n",
       "  </thead>\n",
       "  <tbody>\n",
       "    <tr>\n",
       "      <td>12</td>\n",
       "      <td>137.251835</td>\n",
       "      <td>0.018288</td>\n",
       "    </tr>\n",
       "    <tr>\n",
       "      <td>10</td>\n",
       "      <td>137.031939</td>\n",
       "      <td>0.016657</td>\n",
       "    </tr>\n",
       "    <tr>\n",
       "      <td>8</td>\n",
       "      <td>150.656594</td>\n",
       "      <td>0.117740</td>\n",
       "    </tr>\n",
       "    <tr>\n",
       "      <td>7</td>\n",
       "      <td>152.094150</td>\n",
       "      <td>0.128405</td>\n",
       "    </tr>\n",
       "    <tr>\n",
       "      <td>5</td>\n",
       "      <td>139.538183</td>\n",
       "      <td>0.035251</td>\n",
       "    </tr>\n",
       "    <tr>\n",
       "      <td>3</td>\n",
       "      <td>128.644488</td>\n",
       "      <td>-0.045571</td>\n",
       "    </tr>\n",
       "  </tbody>\n",
       "</table>\n",
       "</div>"
      ],
      "text/plain": [
       "            price     spike\n",
       "month                      \n",
       "12     137.251835  0.018288\n",
       "10     137.031939  0.016657\n",
       "8      150.656594  0.117740\n",
       "7      152.094150  0.128405\n",
       "5      139.538183  0.035251\n",
       "3      128.644488 -0.045571"
      ]
     },
     "execution_count": 77,
     "metadata": {},
     "output_type": "execute_result"
    }
   ],
   "source": [
    "# Figuring out the peak months and non-peak months and get price spikes\n",
    "busiest_df=price_df.loc[[12,10,8,7,5,3],:]\n",
    "\n",
    "non_busiest_df=price_df.loc[[11,9,6,4,2,1],:]\n",
    "\n",
    "avg_low=non_busiest_df['price'].sum()/6\n",
    "\n",
    "print(avg_low)\n",
    "\n",
    "busiest_df['spike']=(busiest_df['price']-avg_low)/avg_low\n",
    "\n",
    "busiest_df\n",
    "\n"
   ]
  },
  {
   "cell_type": "code",
   "execution_count": 78,
   "metadata": {},
   "outputs": [
    {
     "data": {
      "text/html": [
       "<div>\n",
       "<style scoped>\n",
       "    .dataframe tbody tr th:only-of-type {\n",
       "        vertical-align: middle;\n",
       "    }\n",
       "\n",
       "    .dataframe tbody tr th {\n",
       "        vertical-align: top;\n",
       "    }\n",
       "\n",
       "    .dataframe thead th {\n",
       "        text-align: right;\n",
       "    }\n",
       "</style>\n",
       "<table border=\"1\" class=\"dataframe\">\n",
       "  <thead>\n",
       "    <tr style=\"text-align: right;\">\n",
       "      <th></th>\n",
       "      <th>id</th>\n",
       "    </tr>\n",
       "    <tr>\n",
       "      <th>neighbourhood_group_cleansed</th>\n",
       "      <th></th>\n",
       "    </tr>\n",
       "  </thead>\n",
       "  <tbody>\n",
       "    <tr>\n",
       "      <td>Other neighborhoods</td>\n",
       "      <td>794</td>\n",
       "    </tr>\n",
       "    <tr>\n",
       "      <td>Capitol Hill</td>\n",
       "      <td>567</td>\n",
       "    </tr>\n",
       "    <tr>\n",
       "      <td>Downtown</td>\n",
       "      <td>530</td>\n",
       "    </tr>\n",
       "    <tr>\n",
       "      <td>Central Area</td>\n",
       "      <td>369</td>\n",
       "    </tr>\n",
       "    <tr>\n",
       "      <td>Queen Anne</td>\n",
       "      <td>295</td>\n",
       "    </tr>\n",
       "    <tr>\n",
       "      <td>Ballard</td>\n",
       "      <td>230</td>\n",
       "    </tr>\n",
       "    <tr>\n",
       "      <td>West Seattle</td>\n",
       "      <td>203</td>\n",
       "    </tr>\n",
       "    <tr>\n",
       "      <td>Rainier Valley</td>\n",
       "      <td>159</td>\n",
       "    </tr>\n",
       "    <tr>\n",
       "      <td>University District</td>\n",
       "      <td>122</td>\n",
       "    </tr>\n",
       "    <tr>\n",
       "      <td>Beacon Hill</td>\n",
       "      <td>118</td>\n",
       "    </tr>\n",
       "    <tr>\n",
       "      <td>Cascade</td>\n",
       "      <td>89</td>\n",
       "    </tr>\n",
       "    <tr>\n",
       "      <td>Northgate</td>\n",
       "      <td>80</td>\n",
       "    </tr>\n",
       "    <tr>\n",
       "      <td>Delridge</td>\n",
       "      <td>79</td>\n",
       "    </tr>\n",
       "    <tr>\n",
       "      <td>Lake City</td>\n",
       "      <td>67</td>\n",
       "    </tr>\n",
       "    <tr>\n",
       "      <td>Magnolia</td>\n",
       "      <td>61</td>\n",
       "    </tr>\n",
       "    <tr>\n",
       "      <td>Seward Park</td>\n",
       "      <td>44</td>\n",
       "    </tr>\n",
       "    <tr>\n",
       "      <td>Interbay</td>\n",
       "      <td>11</td>\n",
       "    </tr>\n",
       "  </tbody>\n",
       "</table>\n",
       "</div>"
      ],
      "text/plain": [
       "                               id\n",
       "neighbourhood_group_cleansed     \n",
       "Other neighborhoods           794\n",
       "Capitol Hill                  567\n",
       "Downtown                      530\n",
       "Central Area                  369\n",
       "Queen Anne                    295\n",
       "Ballard                       230\n",
       "West Seattle                  203\n",
       "Rainier Valley                159\n",
       "University District           122\n",
       "Beacon Hill                   118\n",
       "Cascade                        89\n",
       "Northgate                      80\n",
       "Delridge                       79\n",
       "Lake City                      67\n",
       "Magnolia                       61\n",
       "Seward Park                    44\n",
       "Interbay                       11"
      ]
     },
     "execution_count": 78,
     "metadata": {},
     "output_type": "execute_result"
    }
   ],
   "source": [
    "# Taking the first file listings.csv and asking the following questions:\n",
    "# 3) What are some of the neighborhoods that people visit in Seattle, neighborhood_group_cleansed, and listings\n",
    "\n",
    "columns=['id','neighbourhood_group_cleansed']\n",
    "listings_df.shape\n",
    "new_df=listings_df[columns]\n",
    "\n",
    "listings_df['neighbourhood_group_cleansed'].isnull().mean()\n",
    "\n",
    "neighbourhood_listing_df=new_df.groupby(['neighbourhood_group_cleansed']).id.count().to_frame()\n",
    "\n",
    "neighbourhood_listing_df.sort_values(by='id',ascending=False)"
   ]
  },
  {
   "cell_type": "code",
   "execution_count": 79,
   "metadata": {},
   "outputs": [],
   "source": [
    "#4) Can the following columns predict how high the price of the listing will be? [number_of_reviews, review_score_rating, price]\n",
    "# Putting price into float to be able to process further\n",
    "listings_df['price'] = listings_df['price'].str.replace(',','').str.replace('$','').astype('float')"
   ]
  },
  {
   "cell_type": "code",
   "execution_count": 80,
   "metadata": {},
   "outputs": [
    {
     "name": "stdout",
     "output_type": "stream",
     "text": [
      "0.0\n"
     ]
    }
   ],
   "source": [
    "#Checking for missing data\n",
    "print(ab.check_cols_null(listings_df,'price'))"
   ]
  },
  {
   "cell_type": "code",
   "execution_count": 81,
   "metadata": {},
   "outputs": [
    {
     "name": "stdout",
     "output_type": "stream",
     "text": [
      "0.0\n"
     ]
    }
   ],
   "source": [
    "print(ab.check_cols_null(listings_df,'number_of_reviews'))\n"
   ]
  },
  {
   "cell_type": "code",
   "execution_count": 82,
   "metadata": {},
   "outputs": [
    {
     "name": "stdout",
     "output_type": "stream",
     "text": [
      "0.16946045049764275\n"
     ]
    }
   ],
   "source": [
    "print(ab.check_cols_null(listings_df,'review_scores_rating'))"
   ]
  },
  {
   "cell_type": "code",
   "execution_count": 83,
   "metadata": {},
   "outputs": [
    {
     "data": {
      "text/plain": [
       "True"
      ]
     },
     "execution_count": 83,
     "metadata": {},
     "output_type": "execute_result"
    }
   ],
   "source": [
    "listings_df.isnull().values.any()"
   ]
  },
  {
   "cell_type": "code",
   "execution_count": 84,
   "metadata": {},
   "outputs": [
    {
     "data": {
      "text/plain": [
       "(3171, 3)"
      ]
     },
     "execution_count": 84,
     "metadata": {},
     "output_type": "execute_result"
    }
   ],
   "source": [
    "# Getting the listing columns and figuring out to drop review_scores_rating null data since it's under 20% missing. \n",
    "columns=['price','number_of_reviews','review_scores_rating']\n",
    "listing_price_df=listings_df[columns]\n",
    "listing_price_df.shape\n",
    "listing_price_df.head()\n",
    "\n",
    "#Decide to drop na for review score rating\n",
    "listing_price_df=listing_price_df.dropna(subset=['review_scores_rating'])\n",
    "listing_price_df.shape"
   ]
  },
  {
   "cell_type": "code",
   "execution_count": 85,
   "metadata": {},
   "outputs": [
    {
     "data": {
      "text/plain": [
       "'The r-squared score for the model using only quantitative variables was 0.019743085600305355 on 952 values.'"
      ]
     },
     "execution_count": 85,
     "metadata": {},
     "output_type": "execute_result"
    }
   ],
   "source": [
    "# Running Linear Model\n",
    "listing_price_cols = ['number_of_reviews', 'review_scores_rating']\n",
    "test_score, train_score, lm_model, X_train, X_test, y_train, y_test, y_test_preds = ab.clean_fit_linear_mod(listing_price_df, 'price', listing_price_cols, dummy_na=False)\n",
    "\"The r-squared score for the model using only quantitative variables was {} on {} values.\".format(r2_score(y_test, y_test_preds), len(y_test))"
   ]
  },
  {
   "cell_type": "code",
   "execution_count": 86,
   "metadata": {},
   "outputs": [
    {
     "data": {
      "text/plain": [
       "'The r-squared score for the model using only quantitative variables was -1.1389076692493109e+28 on 952 values.'"
      ]
     },
     "execution_count": 86,
     "metadata": {},
     "output_type": "execute_result"
    }
   ],
   "source": [
    "# Running Linear Model\n",
    "listing_price_cols = ['number_of_reviews', 'review_scores_rating']\n",
    "test_score, train_score, lm_model, X_train, X_test, y_train, y_test, y_test_preds = ab.clean_fit_linear_mod(listing_price_df, 'price', listing_price_cols, dummy_na=True)\n",
    "\"The r-squared score for the model using only quantitative variables was {} on {} values.\".format(r2_score(y_test, y_test_preds), len(y_test))"
   ]
  },
  {
   "cell_type": "code",
   "execution_count": 87,
   "metadata": {},
   "outputs": [
    {
     "data": {
      "text/html": [
       "<div>\n",
       "<style scoped>\n",
       "    .dataframe tbody tr th:only-of-type {\n",
       "        vertical-align: middle;\n",
       "    }\n",
       "\n",
       "    .dataframe tbody tr th {\n",
       "        vertical-align: top;\n",
       "    }\n",
       "\n",
       "    .dataframe thead th {\n",
       "        text-align: right;\n",
       "    }\n",
       "</style>\n",
       "<table border=\"1\" class=\"dataframe\">\n",
       "  <thead>\n",
       "    <tr style=\"text-align: right;\">\n",
       "      <th></th>\n",
       "      <th>price</th>\n",
       "      <th>number_of_reviews</th>\n",
       "      <th>review_scores_rating</th>\n",
       "      <th>review_scores_rating_bins</th>\n",
       "      <th>score_sentiment</th>\n",
       "    </tr>\n",
       "  </thead>\n",
       "  <tbody>\n",
       "    <tr>\n",
       "      <td>0</td>\n",
       "      <td>85.0</td>\n",
       "      <td>207</td>\n",
       "      <td>95.0</td>\n",
       "      <td>(90.0, 95.0]</td>\n",
       "      <td>Good</td>\n",
       "    </tr>\n",
       "    <tr>\n",
       "      <td>1</td>\n",
       "      <td>150.0</td>\n",
       "      <td>43</td>\n",
       "      <td>96.0</td>\n",
       "      <td>(95.0, 97.0]</td>\n",
       "      <td>Average</td>\n",
       "    </tr>\n",
       "    <tr>\n",
       "      <td>2</td>\n",
       "      <td>975.0</td>\n",
       "      <td>20</td>\n",
       "      <td>97.0</td>\n",
       "      <td>(95.0, 97.0]</td>\n",
       "      <td>Average</td>\n",
       "    </tr>\n",
       "    <tr>\n",
       "      <td>4</td>\n",
       "      <td>450.0</td>\n",
       "      <td>38</td>\n",
       "      <td>92.0</td>\n",
       "      <td>(90.0, 95.0]</td>\n",
       "      <td>Good</td>\n",
       "    </tr>\n",
       "    <tr>\n",
       "      <td>5</td>\n",
       "      <td>120.0</td>\n",
       "      <td>17</td>\n",
       "      <td>95.0</td>\n",
       "      <td>(90.0, 95.0]</td>\n",
       "      <td>Good</td>\n",
       "    </tr>\n",
       "  </tbody>\n",
       "</table>\n",
       "</div>"
      ],
      "text/plain": [
       "   price  number_of_reviews  review_scores_rating review_scores_rating_bins  \\\n",
       "0   85.0                207                  95.0              (90.0, 95.0]   \n",
       "1  150.0                 43                  96.0              (95.0, 97.0]   \n",
       "2  975.0                 20                  97.0              (95.0, 97.0]   \n",
       "4  450.0                 38                  92.0              (90.0, 95.0]   \n",
       "5  120.0                 17                  95.0              (90.0, 95.0]   \n",
       "\n",
       "  score_sentiment  \n",
       "0            Good  \n",
       "1         Average  \n",
       "2         Average  \n",
       "4            Good  \n",
       "5            Good  "
      ]
     },
     "execution_count": 87,
     "metadata": {},
     "output_type": "execute_result"
    }
   ],
   "source": [
    "#How about we split the review_scores_ratings and number of reviews into bins instead and see if processed as categorical variables, the linear model will fit better? \n",
    "\n",
    "listing_price_df['review_scores_rating']=listing_price_df['review_scores_rating'].astype('float')\n",
    "listing_price_df.head()\n",
    "listing_price_df['review_scores_rating_bins']=pd.cut(listing_price_df.review_scores_rating,bins = [0,85.0,90.0,95.0,97.0,100.0])\n",
    "listing_price_df.head()\n",
    "listing_price_df['review_scores_rating_bins'].value_counts().sort_index()\n",
    "listing_price_df['score_sentiment']=pd.cut(listing_price_df.review_scores_rating,bins = [0,85.0,90.0,95.0,97.0,100.0],labels=['Bad','Fair','Good','Average','Best'])\n",
    "listing_price_df.head()\n"
   ]
  },
  {
   "cell_type": "code",
   "execution_count": 88,
   "metadata": {},
   "outputs": [
    {
     "data": {
      "text/plain": [
       "count    3171.000000\n",
       "mean       26.751498\n",
       "std        39.914223\n",
       "min         1.000000\n",
       "25%         4.000000\n",
       "50%        13.000000\n",
       "75%        32.000000\n",
       "max       474.000000\n",
       "Name: number_of_reviews, dtype: float64"
      ]
     },
     "execution_count": 88,
     "metadata": {},
     "output_type": "execute_result"
    }
   ],
   "source": [
    "#How about we split the review_scores_ratings also into bins as well. \n",
    "\n",
    "listing_price_df['number_of_reviews']=listing_price_df['number_of_reviews'].astype('float')\n",
    "listing_price_df.head()\n",
    "listing_price_df['number_of_reviews'].describe()"
   ]
  },
  {
   "cell_type": "code",
   "execution_count": 89,
   "metadata": {},
   "outputs": [
    {
     "data": {
      "text/html": [
       "<div>\n",
       "<style scoped>\n",
       "    .dataframe tbody tr th:only-of-type {\n",
       "        vertical-align: middle;\n",
       "    }\n",
       "\n",
       "    .dataframe tbody tr th {\n",
       "        vertical-align: top;\n",
       "    }\n",
       "\n",
       "    .dataframe thead th {\n",
       "        text-align: right;\n",
       "    }\n",
       "</style>\n",
       "<table border=\"1\" class=\"dataframe\">\n",
       "  <thead>\n",
       "    <tr style=\"text-align: right;\">\n",
       "      <th></th>\n",
       "      <th>price</th>\n",
       "      <th>number_of_reviews</th>\n",
       "      <th>review_scores_rating</th>\n",
       "      <th>review_scores_rating_bins</th>\n",
       "      <th>score_sentiment</th>\n",
       "      <th>number_of_reviews_cat</th>\n",
       "    </tr>\n",
       "  </thead>\n",
       "  <tbody>\n",
       "    <tr>\n",
       "      <td>0</td>\n",
       "      <td>85.0</td>\n",
       "      <td>(0, 100]</td>\n",
       "      <td>95.0</td>\n",
       "      <td>(90.0, 95.0]</td>\n",
       "      <td>Good</td>\n",
       "      <td>None</td>\n",
       "    </tr>\n",
       "    <tr>\n",
       "      <td>1</td>\n",
       "      <td>150.0</td>\n",
       "      <td>(0, 100]</td>\n",
       "      <td>96.0</td>\n",
       "      <td>(95.0, 97.0]</td>\n",
       "      <td>Average</td>\n",
       "      <td>None</td>\n",
       "    </tr>\n",
       "    <tr>\n",
       "      <td>2</td>\n",
       "      <td>975.0</td>\n",
       "      <td>(0, 100]</td>\n",
       "      <td>97.0</td>\n",
       "      <td>(95.0, 97.0]</td>\n",
       "      <td>Average</td>\n",
       "      <td>None</td>\n",
       "    </tr>\n",
       "    <tr>\n",
       "      <td>4</td>\n",
       "      <td>450.0</td>\n",
       "      <td>(0, 100]</td>\n",
       "      <td>92.0</td>\n",
       "      <td>(90.0, 95.0]</td>\n",
       "      <td>Good</td>\n",
       "      <td>None</td>\n",
       "    </tr>\n",
       "    <tr>\n",
       "      <td>5</td>\n",
       "      <td>120.0</td>\n",
       "      <td>(0, 100]</td>\n",
       "      <td>95.0</td>\n",
       "      <td>(90.0, 95.0]</td>\n",
       "      <td>Good</td>\n",
       "      <td>None</td>\n",
       "    </tr>\n",
       "  </tbody>\n",
       "</table>\n",
       "</div>"
      ],
      "text/plain": [
       "   price number_of_reviews  review_scores_rating review_scores_rating_bins  \\\n",
       "0   85.0          (0, 100]                  95.0              (90.0, 95.0]   \n",
       "1  150.0          (0, 100]                  96.0              (95.0, 97.0]   \n",
       "2  975.0          (0, 100]                  97.0              (95.0, 97.0]   \n",
       "4  450.0          (0, 100]                  92.0              (90.0, 95.0]   \n",
       "5  120.0          (0, 100]                  95.0              (90.0, 95.0]   \n",
       "\n",
       "  score_sentiment number_of_reviews_cat  \n",
       "0            Good                  None  \n",
       "1         Average                  None  \n",
       "2         Average                  None  \n",
       "4            Good                  None  \n",
       "5            Good                  None  "
      ]
     },
     "execution_count": 89,
     "metadata": {},
     "output_type": "execute_result"
    }
   ],
   "source": [
    "listing_price_df['number_of_reviews']=pd.cut(listing_price_df.review_scores_rating,bins = [0,100,200,300,400,500])\n",
    "listing_price_df.head()\n",
    "listing_price_df['number_of_reviews'].value_counts().sort_index()\n",
    "listing_price_df['number_of_reviews_cat']=pd.cut(listing_price_df.review_scores_rating,bins = [0,100,200,300,400,500],labels=['None','Low','Low Med','Med','High'])\n",
    "listing_price_df.head()"
   ]
  },
  {
   "cell_type": "code",
   "execution_count": 90,
   "metadata": {},
   "outputs": [
    {
     "data": {
      "text/plain": [
       "'The r-squared score for the model using only quantitative variables was 0.0072219156898417625 on 952 values.'"
      ]
     },
     "execution_count": 90,
     "metadata": {},
     "output_type": "execute_result"
    }
   ],
   "source": [
    "# Running Linear Model on both categorical variables\n",
    "listing_price_df2=listing_price_df[['price','number_of_reviews_cat', 'score_sentiment']]\n",
    "listing_price_cols = ['number_of_reviews_cat', 'score_sentiment']\n",
    "test_score, train_score, lm_model, X_train, X_test, y_train, y_test, y_test_preds = ab.clean_fit_linear_mod(listing_price_df2, 'price', listing_price_cols, dummy_na=True)\n",
    "\"The r-squared score for the model using only quantitative variables was {} on {} values.\".format(r2_score(y_test, y_test_preds), len(y_test))"
   ]
  },
  {
   "cell_type": "code",
   "execution_count": 91,
   "metadata": {},
   "outputs": [],
   "source": [
    "#Running Linear Model on just score_sentiment"
   ]
  },
  {
   "cell_type": "code",
   "execution_count": 92,
   "metadata": {},
   "outputs": [
    {
     "data": {
      "text/plain": [
       "'The r-squared score for the model using only quantitative variables was 0.0072219156898417625 on 952 values.'"
      ]
     },
     "execution_count": 92,
     "metadata": {},
     "output_type": "execute_result"
    }
   ],
   "source": [
    "# Running Linear Model on number_of_reviews before bins and score_sentiment after binning\n",
    "listing_price_df2=listing_price_df[['price','number_of_reviews','score_sentiment']]\n",
    "listing_price_cols = ['number_of_reviews','score_sentiment']\n",
    "test_score, train_score, lm_model, X_train, X_test, y_train, y_test, y_test_preds = ab.clean_fit_linear_mod(listing_price_df2, 'price', listing_price_cols, dummy_na=True)\n",
    "\"The r-squared score for the model using only quantitative variables was {} on {} values.\".format(r2_score(y_test, y_test_preds), len(y_test))"
   ]
  },
  {
   "cell_type": "code",
   "execution_count": 122,
   "metadata": {},
   "outputs": [
    {
     "name": "stderr",
     "output_type": "stream",
     "text": [
      "/Users/junwu/opt/anaconda3/lib/python3.7/site-packages/ipykernel_launcher.py:4: SettingWithCopyWarning: \n",
      "A value is trying to be set on a copy of a slice from a DataFrame.\n",
      "Try using .loc[row_indexer,col_indexer] = value instead\n",
      "\n",
      "See the caveats in the documentation: http://pandas.pydata.org/pandas-docs/stable/user_guide/indexing.html#returning-a-view-versus-a-copy\n",
      "  after removing the cwd from sys.path.\n"
     ]
    },
    {
     "data": {
      "text/plain": [
       "(0, 128]       2084\n",
       "(128, 1000]    1087\n",
       "Name: price_bins, dtype: int64"
      ]
     },
     "execution_count": 122,
     "metadata": {},
     "output_type": "execute_result"
    }
   ],
   "source": [
    "# Since we've binned variables that are now categorical, we can try using the logistic regression instead of a linear model. Instead of predicting the price as a quantitative number, we can see if we can predict price as High or Low. \n",
    "listing_price_df2=listing_price_df[['price','number_of_reviews_cat', 'score_sentiment']]\n",
    "listing_price_df2['price'].describe()\n",
    "listing_price_df2['price_bins']=pd.cut(listing_price_df.price,bins = [0,128,1000])\n",
    "listing_price_df2['price_bins'].value_counts().sort_index()\n"
   ]
  },
  {
   "cell_type": "code",
   "execution_count": 123,
   "metadata": {},
   "outputs": [
    {
     "name": "stderr",
     "output_type": "stream",
     "text": [
      "/Users/junwu/opt/anaconda3/lib/python3.7/site-packages/ipykernel_launcher.py:1: SettingWithCopyWarning: \n",
      "A value is trying to be set on a copy of a slice from a DataFrame.\n",
      "Try using .loc[row_indexer,col_indexer] = value instead\n",
      "\n",
      "See the caveats in the documentation: http://pandas.pydata.org/pandas-docs/stable/user_guide/indexing.html#returning-a-view-versus-a-copy\n",
      "  \"\"\"Entry point for launching an IPython kernel.\n"
     ]
    },
    {
     "data": {
      "text/html": [
       "<div>\n",
       "<style scoped>\n",
       "    .dataframe tbody tr th:only-of-type {\n",
       "        vertical-align: middle;\n",
       "    }\n",
       "\n",
       "    .dataframe tbody tr th {\n",
       "        vertical-align: top;\n",
       "    }\n",
       "\n",
       "    .dataframe thead th {\n",
       "        text-align: right;\n",
       "    }\n",
       "</style>\n",
       "<table border=\"1\" class=\"dataframe\">\n",
       "  <thead>\n",
       "    <tr style=\"text-align: right;\">\n",
       "      <th></th>\n",
       "      <th>price</th>\n",
       "      <th>number_of_reviews_cat</th>\n",
       "      <th>score_sentiment</th>\n",
       "      <th>price_bins</th>\n",
       "      <th>price_hi_low</th>\n",
       "    </tr>\n",
       "  </thead>\n",
       "  <tbody>\n",
       "    <tr>\n",
       "      <td>0</td>\n",
       "      <td>85.0</td>\n",
       "      <td>None</td>\n",
       "      <td>Good</td>\n",
       "      <td>(0, 128]</td>\n",
       "      <td>0</td>\n",
       "    </tr>\n",
       "    <tr>\n",
       "      <td>1</td>\n",
       "      <td>150.0</td>\n",
       "      <td>None</td>\n",
       "      <td>Average</td>\n",
       "      <td>(128, 1000]</td>\n",
       "      <td>1</td>\n",
       "    </tr>\n",
       "    <tr>\n",
       "      <td>2</td>\n",
       "      <td>975.0</td>\n",
       "      <td>None</td>\n",
       "      <td>Average</td>\n",
       "      <td>(128, 1000]</td>\n",
       "      <td>1</td>\n",
       "    </tr>\n",
       "    <tr>\n",
       "      <td>4</td>\n",
       "      <td>450.0</td>\n",
       "      <td>None</td>\n",
       "      <td>Good</td>\n",
       "      <td>(128, 1000]</td>\n",
       "      <td>1</td>\n",
       "    </tr>\n",
       "    <tr>\n",
       "      <td>5</td>\n",
       "      <td>120.0</td>\n",
       "      <td>None</td>\n",
       "      <td>Good</td>\n",
       "      <td>(0, 128]</td>\n",
       "      <td>0</td>\n",
       "    </tr>\n",
       "  </tbody>\n",
       "</table>\n",
       "</div>"
      ],
      "text/plain": [
       "   price number_of_reviews_cat score_sentiment   price_bins price_hi_low\n",
       "0   85.0                  None            Good     (0, 128]            0\n",
       "1  150.0                  None         Average  (128, 1000]            1\n",
       "2  975.0                  None         Average  (128, 1000]            1\n",
       "4  450.0                  None            Good  (128, 1000]            1\n",
       "5  120.0                  None            Good     (0, 128]            0"
      ]
     },
     "execution_count": 123,
     "metadata": {},
     "output_type": "execute_result"
    }
   ],
   "source": [
    "#binning the price as either high or low to setup for logistic regression\n",
    "listing_price_df2['price_hi_low']=pd.cut(listing_price_df2.price,bins = [0,128,1000],labels=[0,1])\n",
    "listing_price_df2.head()"
   ]
  },
  {
   "cell_type": "code",
   "execution_count": 119,
   "metadata": {},
   "outputs": [
    {
     "data": {
      "text/html": [
       "<div>\n",
       "<style scoped>\n",
       "    .dataframe tbody tr th:only-of-type {\n",
       "        vertical-align: middle;\n",
       "    }\n",
       "\n",
       "    .dataframe tbody tr th {\n",
       "        vertical-align: top;\n",
       "    }\n",
       "\n",
       "    .dataframe thead th {\n",
       "        text-align: right;\n",
       "    }\n",
       "</style>\n",
       "<table border=\"1\" class=\"dataframe\">\n",
       "  <thead>\n",
       "    <tr style=\"text-align: right;\">\n",
       "      <th></th>\n",
       "      <th>price_hi_low</th>\n",
       "      <th>score_sentiment_Fair</th>\n",
       "      <th>score_sentiment_Good</th>\n",
       "      <th>score_sentiment_Average</th>\n",
       "      <th>score_sentiment_Best</th>\n",
       "      <th>score_sentiment_nan</th>\n",
       "    </tr>\n",
       "  </thead>\n",
       "  <tbody>\n",
       "    <tr>\n",
       "      <td>0</td>\n",
       "      <td>0</td>\n",
       "      <td>0</td>\n",
       "      <td>1</td>\n",
       "      <td>0</td>\n",
       "      <td>0</td>\n",
       "      <td>0</td>\n",
       "    </tr>\n",
       "    <tr>\n",
       "      <td>1</td>\n",
       "      <td>1</td>\n",
       "      <td>0</td>\n",
       "      <td>0</td>\n",
       "      <td>1</td>\n",
       "      <td>0</td>\n",
       "      <td>0</td>\n",
       "    </tr>\n",
       "    <tr>\n",
       "      <td>2</td>\n",
       "      <td>1</td>\n",
       "      <td>0</td>\n",
       "      <td>0</td>\n",
       "      <td>1</td>\n",
       "      <td>0</td>\n",
       "      <td>0</td>\n",
       "    </tr>\n",
       "    <tr>\n",
       "      <td>4</td>\n",
       "      <td>1</td>\n",
       "      <td>0</td>\n",
       "      <td>1</td>\n",
       "      <td>0</td>\n",
       "      <td>0</td>\n",
       "      <td>0</td>\n",
       "    </tr>\n",
       "    <tr>\n",
       "      <td>5</td>\n",
       "      <td>0</td>\n",
       "      <td>0</td>\n",
       "      <td>1</td>\n",
       "      <td>0</td>\n",
       "      <td>0</td>\n",
       "      <td>0</td>\n",
       "    </tr>\n",
       "  </tbody>\n",
       "</table>\n",
       "</div>"
      ],
      "text/plain": [
       "  price_hi_low  score_sentiment_Fair  score_sentiment_Good  \\\n",
       "0            0                     0                     1   \n",
       "1            1                     0                     0   \n",
       "2            1                     0                     0   \n",
       "4            1                     0                     1   \n",
       "5            0                     0                     1   \n",
       "\n",
       "   score_sentiment_Average  score_sentiment_Best  score_sentiment_nan  \n",
       "0                        0                     0                    0  \n",
       "1                        1                     0                    0  \n",
       "2                        1                     0                    0  \n",
       "4                        0                     0                    0  \n",
       "5                        0                     0                    0  "
      ]
     },
     "execution_count": 119,
     "metadata": {},
     "output_type": "execute_result"
    }
   ],
   "source": [
    "# Running logistic regression on score_sentiment against price_high_low\n",
    "cat_cols=['score_sentiment']\n",
    "df=ab.create_dummy_df(listing_price_df2, cat_cols, 'True')\n",
    "df.head()\n",
    "df.drop(['price','price_bins','number_of_reviews_cat'], axis = 1, inplace = True)\n",
    "df.head()"
   ]
  },
  {
   "cell_type": "code",
   "execution_count": 120,
   "metadata": {},
   "outputs": [
    {
     "name": "stdout",
     "output_type": "stream",
     "text": [
      "              precision    recall  f1-score   support\n",
      "\n",
      "           0       0.64      1.00      0.78       614\n",
      "           1       0.00      0.00      0.00       338\n",
      "\n",
      "    accuracy                           0.64       952\n",
      "   macro avg       0.32      0.50      0.39       952\n",
      "weighted avg       0.42      0.64      0.51       952\n",
      "\n",
      "[[614   0]\n",
      " [338   0]]\n"
     ]
    },
    {
     "name": "stderr",
     "output_type": "stream",
     "text": [
      "/Users/junwu/opt/anaconda3/lib/python3.7/site-packages/sklearn/linear_model/logistic.py:432: FutureWarning: Default solver will be changed to 'lbfgs' in 0.22. Specify a solver to silence this warning.\n",
      "  FutureWarning)\n",
      "/Users/junwu/opt/anaconda3/lib/python3.7/site-packages/sklearn/metrics/classification.py:1437: UndefinedMetricWarning: Precision and F-score are ill-defined and being set to 0.0 in labels with no predicted samples.\n",
      "  'precision', 'predicted', average, warn_for)\n"
     ]
    }
   ],
   "source": [
    "# Running Logistic Regression\n",
    "y_data=df['price_hi_low']\n",
    "x_data=df.drop('price_hi_low', axis=1)\n",
    "from sklearn.model_selection import train_test_split\n",
    "x_training_data, x_test_data, y_training_data, y_test_data = train_test_split(x_data, y_data, test_size = 0.3)\n",
    "#Create the model\n",
    "from sklearn.linear_model import LogisticRegression\n",
    "model = LogisticRegression()\n",
    "#Train the model and create predictions\n",
    "model.fit(x_training_data, y_training_data)\n",
    "predictions = model.predict(x_test_data)\n",
    "\n",
    "#Calculate performance metrics\n",
    "from sklearn.metrics import classification_report\n",
    "print(classification_report(y_test_data, predictions))\n",
    "#Generate a confusion matrix\n",
    "from sklearn.metrics import confusion_matrix\n",
    "print(confusion_matrix(y_test_data, predictions))\n",
    "\n"
   ]
  },
  {
   "cell_type": "code",
   "execution_count": 121,
   "metadata": {},
   "outputs": [
    {
     "data": {
      "image/png": "[encoded data removed]",
      "text/plain": [
       "<Figure size 432x288 with 1 Axes>"
      ]
     },
     "metadata": {
      "needs_background": "light"
     },
     "output_type": "display_data"
    }
   ],
   "source": [
    "#Graphing the auc curve\n",
    "fpr, tpr, _ = roc_curve(y_test_data,predictions)\n",
    "auc = roc_auc_score(y_test_data, predictions)\n",
    "plt.plot(fpr,tpr,label=\"data 1, auc=\"+str(auc))\n",
    "plt.legend(loc=4)\n",
    "plt.show()"
   ]
  },
  {
   "cell_type": "code",
   "execution_count": null,
   "metadata": {},
   "outputs": [],
   "source": []
  }
 ],
 "metadata": {
  "kernelspec": {
   "display_name": "Python 3",
   "language": "python",
   "name": "python3"
  },
  "language_info": {
   "codemirror_mode": {
    "name": "ipython",
    "version": 3
   },
   "file_extension": ".py",
   "mimetype": "text/x-python",
   "name": "python",
   "nbconvert_exporter": "python",
   "pygments_lexer": "ipython3",
   "version": "3.7.4"
  }
 },
 "nbformat": 4,
 "nbformat_minor": 4
}
