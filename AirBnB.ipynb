{
 "cells": [
  {
   "cell_type": "markdown",
   "metadata": {},
   "source": [
    "# Section 1: Business Understanding\n",
    "\n",
    "This project uses AirBnB Dataset that contains the following files: \n",
    "\n",
    "calendar.csv\n",
    "listings.csv\n",
    "reviews.csv\n",
    "\n",
    "The AirBnB dataset contains the AirBnB listing, reviews and calendar/frequency of travel to the city of Seattle. The data can be used to find out trend information related to travel to Seattle for various months. It can also be used to find out about pricing and reviews related to the listings. \n",
    "\n",
    "Below are some of the questions asked for the data analysis of this project. \n",
    "\n",
    "# Question 1:\n",
    "\n",
    "1) Are there any price spikes for peak months? \n",
    "\n",
    "# Question 2:\n",
    "\n",
    "2) What are the most frequented neighborhoods in Seattle?\n",
    "\n",
    "# Question 3:\n",
    "\n",
    "3) Can we predict the price using number_of_reviews and review_score_rating?\n",
    "\n"
   ]
  },
  {
   "cell_type": "markdown",
   "metadata": {},
   "source": [
    "#Note: For each of the questions, there are separate Data Preparation and Data Modeling/Data Visualization steps as labeled."
   ]
  },
  {
   "cell_type": "code",
   "execution_count": 34,
   "metadata": {},
   "outputs": [],
   "source": [
    "import numpy as np\n",
    "import pandas as pd\n",
    "import matplotlib.pyplot as plt\n",
    "from matplotlib import cm\n",
    "%matplotlib inline\n",
    "from sklearn.linear_model import LinearRegression\n",
    "from sklearn.model_selection import train_test_split\n",
    "from sklearn.metrics import r2_score, mean_squared_error, roc_curve,roc_auc_score\n",
    "import AirBnB as ab"
   ]
  },
  {
   "cell_type": "markdown",
   "metadata": {},
   "source": [
    "# Section 2: Data Understanding - All Questions"
   ]
  },
  {
   "cell_type": "markdown",
   "metadata": {},
   "source": [
    "## Gather - 3 files"
   ]
  },
  {
   "cell_type": "code",
   "execution_count": 71,
   "metadata": {},
   "outputs": [
    {
     "name": "stdout",
     "output_type": "stream",
     "text": [
      "   listing_id        date available   price\n",
      "0      241032  2016-01-04         t  $85.00\n",
      "1      241032  2016-01-05         t  $85.00\n",
      "2      241032  2016-01-06         f     NaN\n",
      "3      241032  2016-01-07         f     NaN\n",
      "4      241032  2016-01-08         f     NaN\n"
     ]
    }
   ],
   "source": [
    "#Get the airbnb data and look at the first 5 lines: calendar.csv, listings.csv, reviews.csv\n",
    "\n",
    "file_path=\"./calendar.csv\"\n",
    "fpath=\"./\"\n",
    "fname=\"temp_output.csv\"\n",
    "\n",
    "calendar_df=ab.read_file(file_path) \n",
    "five_lines=ab.get_five_lines(calendar_df)\n",
    "print(five_lines)\n"
   ]
  },
  {
   "cell_type": "code",
   "execution_count": 74,
   "metadata": {},
   "outputs": [
    {
     "name": "stdout",
     "output_type": "stream",
     "text": [
      "        id                           listing_url       scrape_id last_scraped  \\\n",
      "0   241032   https://www.airbnb.com/rooms/241032  20160104002432   2016-01-04   \n",
      "1   953595   https://www.airbnb.com/rooms/953595  20160104002432   2016-01-04   \n",
      "2  3308979  https://www.airbnb.com/rooms/3308979  20160104002432   2016-01-04   \n",
      "3  7421966  https://www.airbnb.com/rooms/7421966  20160104002432   2016-01-04   \n",
      "4   278830   https://www.airbnb.com/rooms/278830  20160104002432   2016-01-04   \n",
      "\n",
      "                                  name  \\\n",
      "0         Stylish Queen Anne Apartment   \n",
      "1   Bright & Airy Queen Anne Apartment   \n",
      "2  New Modern House-Amazing water view   \n",
      "3                   Queen Anne Chateau   \n",
      "4       Charming craftsman 3 bdm house   \n",
      "\n",
      "                                             summary  \\\n",
      "0                                                NaN   \n",
      "1  Chemically sensitive? We've removed the irrita...   \n",
      "2  New modern house built in 2013.  Spectacular s...   \n",
      "3  A charming apartment that sits atop Queen Anne...   \n",
      "4  Cozy family craftman house in beautiful neighb...   \n",
      "\n",
      "                                               space  \\\n",
      "0  Make your self at home in this charming one-be...   \n",
      "1  Beautiful, hypoallergenic apartment in an extr...   \n",
      "2  Our house is modern, light and fresh with a wa...   \n",
      "3                                                NaN   \n",
      "4  Cozy family craftman house in beautiful neighb...   \n",
      "\n",
      "                                         description experiences_offered  \\\n",
      "0  Make your self at home in this charming one-be...                none   \n",
      "1  Chemically sensitive? We've removed the irrita...                none   \n",
      "2  New modern house built in 2013.  Spectacular s...                none   \n",
      "3  A charming apartment that sits atop Queen Anne...                none   \n",
      "4  Cozy family craftman house in beautiful neighb...                none   \n",
      "\n",
      "                               neighborhood_overview  ... review_scores_value  \\\n",
      "0                                                NaN  ...                10.0   \n",
      "1  Queen Anne is a wonderful, truly functional vi...  ...                10.0   \n",
      "2  Upper Queen Anne is a charming neighborhood fu...  ...                10.0   \n",
      "3                                                NaN  ...                 NaN   \n",
      "4  We are in the beautiful neighborhood of Queen ...  ...                 9.0   \n",
      "\n",
      "  requires_license license jurisdiction_names instant_bookable  \\\n",
      "0                f     NaN         WASHINGTON                f   \n",
      "1                f     NaN         WASHINGTON                f   \n",
      "2                f     NaN         WASHINGTON                f   \n",
      "3                f     NaN         WASHINGTON                f   \n",
      "4                f     NaN         WASHINGTON                f   \n",
      "\n",
      "  cancellation_policy  require_guest_profile_picture  \\\n",
      "0            moderate                              f   \n",
      "1              strict                              t   \n",
      "2              strict                              f   \n",
      "3            flexible                              f   \n",
      "4              strict                              f   \n",
      "\n",
      "  require_guest_phone_verification calculated_host_listings_count  \\\n",
      "0                                f                              2   \n",
      "1                                t                              6   \n",
      "2                                f                              2   \n",
      "3                                f                              1   \n",
      "4                                f                              1   \n",
      "\n",
      "  reviews_per_month  \n",
      "0              4.07  \n",
      "1              1.48  \n",
      "2              1.15  \n",
      "3               NaN  \n",
      "4              0.89  \n",
      "\n",
      "[5 rows x 92 columns]\n"
     ]
    }
   ],
   "source": [
    "file_path=\"./listings.csv\"\n",
    "listings_df=ab.read_file(file_path) \n",
    "five_lines=ab.get_five_lines(listings_df)\n",
    "print(five_lines)"
   ]
  },
  {
   "cell_type": "code",
   "execution_count": 75,
   "metadata": {},
   "outputs": [
    {
     "name": "stdout",
     "output_type": "stream",
     "text": [
      "   listing_id        id        date  reviewer_id reviewer_name  \\\n",
      "0     7202016  38917982  2015-07-19     28943674        Bianca   \n",
      "1     7202016  39087409  2015-07-20     32440555         Frank   \n",
      "2     7202016  39820030  2015-07-26     37722850           Ian   \n",
      "3     7202016  40813543  2015-08-02     33671805        George   \n",
      "4     7202016  41986501  2015-08-10     34959538          Ming   \n",
      "\n",
      "                                            comments  \n",
      "0  Cute and cozy place. Perfect location to every...  \n",
      "1  Kelly has a great room in a very central locat...  \n",
      "2  Very spacious apartment, and in a great neighb...  \n",
      "3  Close to Seattle Center and all it has to offe...  \n",
      "4  Kelly was a great host and very accommodating ...  \n"
     ]
    }
   ],
   "source": [
    "file_path=\"./reviews.csv\"\n",
    "reviews_df=ab.read_file(file_path) \n",
    "five_lines=ab.get_five_lines(reviews_df)\n",
    "print(five_lines)"
   ]
  },
  {
   "cell_type": "code",
   "execution_count": 36,
   "metadata": {},
   "outputs": [
    {
     "data": {
      "text/plain": [
       "(1393570, 4)"
      ]
     },
     "execution_count": 36,
     "metadata": {},
     "output_type": "execute_result"
    }
   ],
   "source": [
    "# Get the columns and row counts of each of the files\n",
    "calendar_df.head()\n",
    "calendar_df.shape"
   ]
  },
  {
   "cell_type": "code",
   "execution_count": 37,
   "metadata": {},
   "outputs": [
    {
     "data": {
      "text/plain": [
       "(3818, 92)"
      ]
     },
     "execution_count": 37,
     "metadata": {},
     "output_type": "execute_result"
    }
   ],
   "source": [
    "# Get the columns and row counts of each of the files\n",
    "listings_df.head()\n",
    "listings_df.shape"
   ]
  },
  {
   "cell_type": "code",
   "execution_count": 38,
   "metadata": {},
   "outputs": [
    {
     "data": {
      "text/plain": [
       "(84849, 6)"
      ]
     },
     "execution_count": 38,
     "metadata": {},
     "output_type": "execute_result"
    }
   ],
   "source": [
    "# Get the columns and row counts of each of the files\n",
    "reviews_df.head()\n",
    "reviews_df.shape"
   ]
  },
  {
   "cell_type": "markdown",
   "metadata": {},
   "source": [
    "# Section 3.1: Data Preparation - Question 1\n",
    "##  Are there any price spikes for peak months?"
   ]
  },
  {
   "cell_type": "code",
   "execution_count": 39,
   "metadata": {},
   "outputs": [
    {
     "data": {
      "text/plain": [
       "{'available', 'date', 'listing_id'}"
      ]
     },
     "execution_count": 39,
     "metadata": {},
     "output_type": "execute_result"
    }
   ],
   "source": [
    "#Checking for missing data in calendar.csv\n",
    "\n",
    "ab.get_no_missing_cols(calendar_df)"
   ]
  },
  {
   "cell_type": "code",
   "execution_count": 40,
   "metadata": {},
   "outputs": [
    {
     "data": {
      "text/plain": [
       "(1393570, 4)"
      ]
     },
     "execution_count": 40,
     "metadata": {},
     "output_type": "execute_result"
    }
   ],
   "source": [
    "#Getting the shape\n",
    "calendar_df.shape"
   ]
  },
  {
   "cell_type": "code",
   "execution_count": 41,
   "metadata": {},
   "outputs": [
    {
     "data": {
      "text/plain": [
       "3     118358\n",
       "5     118358\n",
       "7     118358\n",
       "8     118358\n",
       "10    118358\n",
       "12    118358\n",
       "1     114540\n",
       "4     114540\n",
       "6     114540\n",
       "9     114540\n",
       "11    114540\n",
       "2     110722\n",
       "Name: month, dtype: int64"
      ]
     },
     "execution_count": 41,
     "metadata": {},
     "output_type": "execute_result"
    }
   ],
   "source": [
    "# From the timestamp, get month, and year values. \n",
    "\n",
    "calendar_df['year'] = pd.DatetimeIndex(calendar_df['date']).year\n",
    "calendar_df['month'] = pd.DatetimeIndex(calendar_df['date']).month\n",
    "calendar_df.head()\n",
    "pd.unique(calendar_df['month'])\n",
    "calendar_df['month'].value_counts()\n",
    "calendar_df['month'].value_counts().sort_values(ascending=False)"
   ]
  },
  {
   "cell_type": "code",
   "execution_count": 42,
   "metadata": {},
   "outputs": [
    {
     "data": {
      "text/plain": [
       "listing_id     int64\n",
       "date          object\n",
       "available     object\n",
       "price         object\n",
       "year           int64\n",
       "month          int64\n",
       "dtype: object"
      ]
     },
     "execution_count": 42,
     "metadata": {},
     "output_type": "execute_result"
    }
   ],
   "source": [
    "# Checking for missing data and data types\n",
    "calendar_df.isnull().mean()\n",
    "calendar_df.dtypes"
   ]
  },
  {
   "cell_type": "code",
   "execution_count": 43,
   "metadata": {},
   "outputs": [
    {
     "data": {
      "text/plain": [
       "0.31848431594540855"
      ]
     },
     "execution_count": 43,
     "metadata": {},
     "output_type": "execute_result"
    }
   ],
   "source": [
    "#Checking for the busiest months missing data - inline with main months, decide to drop na\n",
    "categories=[12,10,8,7,5,3]\n",
    "busiest_df=calendar_df[calendar_df['month'].isin(categories)]\n",
    "busiest_df['price'].isnull().mean()"
   ]
  },
  {
   "cell_type": "code",
   "execution_count": 44,
   "metadata": {},
   "outputs": [],
   "source": [
    "# Putting price into float to be able to process further\n",
    "calendar_df['price'] = calendar_df['price'].str.replace(',','').str.replace('$','').astype('float')"
   ]
  },
  {
   "cell_type": "code",
   "execution_count": 76,
   "metadata": {},
   "outputs": [],
   "source": [
    "# drop na - Reason: we have 1393570 records. The peak months missing data is 32% inline with other non-peak months missing data. Dropping is a good option here.  \n",
    "calendar_df.dropna(inplace=True)\n"
   ]
  },
  {
   "cell_type": "markdown",
   "metadata": {},
   "source": [
    "# Section 4.1: Data Calculation, Visualization - Question 1\n",
    "##  Are there any price spikes for peak months?"
   ]
  },
  {
   "cell_type": "code",
   "execution_count": 46,
   "metadata": {},
   "outputs": [
    {
     "data": {
      "text/plain": [
       "<matplotlib.axes._subplots.AxesSubplot at 0x7ffae1c29190>"
      ]
     },
     "execution_count": 46,
     "metadata": {},
     "output_type": "execute_result"
    },
    {
     "data": {
      "image/png": "[encoded data removed]",
      "text/plain": [
       "<Figure size 432x288 with 1 Axes>"
      ]
     },
     "metadata": {
      "needs_background": "light"
     },
     "output_type": "display_data"
    }
   ],
   "source": [
    "#Getting the mean price and sort values\n",
    "price_df=calendar_df.groupby([\"month\"]).price.mean().to_frame()\n",
    "\n",
    "price_df=price_df.sort_values(by='price')\n",
    "\n",
    "#Plotting the whole thing\n",
    "color = cm.inferno_r(np.linspace(.4, .8, 12))\n",
    "\n",
    "price_df.plot(kind='bar', stacked=True, color=color)"
   ]
  },
  {
   "cell_type": "code",
   "execution_count": 47,
   "metadata": {},
   "outputs": [
    {
     "name": "stdout",
     "output_type": "stream",
     "text": [
      "134.78682203437413\n"
     ]
    },
    {
     "data": {
      "text/html": [
       "<div>\n",
       "<style scoped>\n",
       "    .dataframe tbody tr th:only-of-type {\n",
       "        vertical-align: middle;\n",
       "    }\n",
       "\n",
       "    .dataframe tbody tr th {\n",
       "        vertical-align: top;\n",
       "    }\n",
       "\n",
       "    .dataframe thead th {\n",
       "        text-align: right;\n",
       "    }\n",
       "</style>\n",
       "<table border=\"1\" class=\"dataframe\">\n",
       "  <thead>\n",
       "    <tr style=\"text-align: right;\">\n",
       "      <th></th>\n",
       "      <th>price</th>\n",
       "      <th>spike</th>\n",
       "    </tr>\n",
       "    <tr>\n",
       "      <th>month</th>\n",
       "      <th></th>\n",
       "      <th></th>\n",
       "    </tr>\n",
       "  </thead>\n",
       "  <tbody>\n",
       "    <tr>\n",
       "      <td>12</td>\n",
       "      <td>137.251835</td>\n",
       "      <td>0.018288</td>\n",
       "    </tr>\n",
       "    <tr>\n",
       "      <td>10</td>\n",
       "      <td>137.031939</td>\n",
       "      <td>0.016657</td>\n",
       "    </tr>\n",
       "    <tr>\n",
       "      <td>8</td>\n",
       "      <td>150.656594</td>\n",
       "      <td>0.117740</td>\n",
       "    </tr>\n",
       "    <tr>\n",
       "      <td>7</td>\n",
       "      <td>152.094150</td>\n",
       "      <td>0.128405</td>\n",
       "    </tr>\n",
       "    <tr>\n",
       "      <td>5</td>\n",
       "      <td>139.538183</td>\n",
       "      <td>0.035251</td>\n",
       "    </tr>\n",
       "    <tr>\n",
       "      <td>3</td>\n",
       "      <td>128.644488</td>\n",
       "      <td>-0.045571</td>\n",
       "    </tr>\n",
       "  </tbody>\n",
       "</table>\n",
       "</div>"
      ],
      "text/plain": [
       "            price     spike\n",
       "month                      \n",
       "12     137.251835  0.018288\n",
       "10     137.031939  0.016657\n",
       "8      150.656594  0.117740\n",
       "7      152.094150  0.128405\n",
       "5      139.538183  0.035251\n",
       "3      128.644488 -0.045571"
      ]
     },
     "execution_count": 47,
     "metadata": {},
     "output_type": "execute_result"
    }
   ],
   "source": [
    "# Creating peak months and non-peak months and calculate the price spikes\n",
    "busiest_df=price_df.loc[[12,10,8,7,5,3],:]\n",
    "\n",
    "non_busiest_df=price_df.loc[[11,9,6,4,2,1],:]\n",
    "\n",
    "avg_low=non_busiest_df['price'].sum()/6\n",
    "\n",
    "print(avg_low)\n",
    "\n",
    "busiest_df['spike']=(busiest_df['price']-avg_low)/avg_low\n",
    "\n",
    "busiest_df\n"
   ]
  },
  {
   "cell_type": "markdown",
   "metadata": {},
   "source": [
    "# Section 6.1 - Conclusion - Question 1\n",
    "\n",
    "## 1) Are there any price spikes for peak months?\n",
    "\n",
    "It turns out that only August (11.77% over mean) and July (12.84% over mean) are the peak months that showed significant spikes in prices. Other peak months such as December, October, March, and May had prices that were close to the mean.\n",
    "\n",
    "It’s essential to process missing data for this dataset. There was 32% data missing from price column. However, it’s inline with total missing data from dataset. Since we have a lot of data, it was easy to decide to just drop the data."
   ]
  },
  {
   "cell_type": "markdown",
   "metadata": {},
   "source": [
    "# Section 3.2 - Data Preparation, Data Visualization - Question 2\n",
    "## 2) What are the most frequented neighborhoods in Seattle?"
   ]
  },
  {
   "cell_type": "code",
   "execution_count": 48,
   "metadata": {},
   "outputs": [
    {
     "data": {
      "text/html": [
       "<div>\n",
       "<style scoped>\n",
       "    .dataframe tbody tr th:only-of-type {\n",
       "        vertical-align: middle;\n",
       "    }\n",
       "\n",
       "    .dataframe tbody tr th {\n",
       "        vertical-align: top;\n",
       "    }\n",
       "\n",
       "    .dataframe thead th {\n",
       "        text-align: right;\n",
       "    }\n",
       "</style>\n",
       "<table border=\"1\" class=\"dataframe\">\n",
       "  <thead>\n",
       "    <tr style=\"text-align: right;\">\n",
       "      <th></th>\n",
       "      <th>id</th>\n",
       "    </tr>\n",
       "    <tr>\n",
       "      <th>neighbourhood_group_cleansed</th>\n",
       "      <th></th>\n",
       "    </tr>\n",
       "  </thead>\n",
       "  <tbody>\n",
       "    <tr>\n",
       "      <td>Other neighborhoods</td>\n",
       "      <td>794</td>\n",
       "    </tr>\n",
       "    <tr>\n",
       "      <td>Capitol Hill</td>\n",
       "      <td>567</td>\n",
       "    </tr>\n",
       "    <tr>\n",
       "      <td>Downtown</td>\n",
       "      <td>530</td>\n",
       "    </tr>\n",
       "    <tr>\n",
       "      <td>Central Area</td>\n",
       "      <td>369</td>\n",
       "    </tr>\n",
       "    <tr>\n",
       "      <td>Queen Anne</td>\n",
       "      <td>295</td>\n",
       "    </tr>\n",
       "    <tr>\n",
       "      <td>Ballard</td>\n",
       "      <td>230</td>\n",
       "    </tr>\n",
       "    <tr>\n",
       "      <td>West Seattle</td>\n",
       "      <td>203</td>\n",
       "    </tr>\n",
       "    <tr>\n",
       "      <td>Rainier Valley</td>\n",
       "      <td>159</td>\n",
       "    </tr>\n",
       "    <tr>\n",
       "      <td>University District</td>\n",
       "      <td>122</td>\n",
       "    </tr>\n",
       "    <tr>\n",
       "      <td>Beacon Hill</td>\n",
       "      <td>118</td>\n",
       "    </tr>\n",
       "    <tr>\n",
       "      <td>Cascade</td>\n",
       "      <td>89</td>\n",
       "    </tr>\n",
       "    <tr>\n",
       "      <td>Northgate</td>\n",
       "      <td>80</td>\n",
       "    </tr>\n",
       "    <tr>\n",
       "      <td>Delridge</td>\n",
       "      <td>79</td>\n",
       "    </tr>\n",
       "    <tr>\n",
       "      <td>Lake City</td>\n",
       "      <td>67</td>\n",
       "    </tr>\n",
       "    <tr>\n",
       "      <td>Magnolia</td>\n",
       "      <td>61</td>\n",
       "    </tr>\n",
       "    <tr>\n",
       "      <td>Seward Park</td>\n",
       "      <td>44</td>\n",
       "    </tr>\n",
       "    <tr>\n",
       "      <td>Interbay</td>\n",
       "      <td>11</td>\n",
       "    </tr>\n",
       "  </tbody>\n",
       "</table>\n",
       "</div>"
      ],
      "text/plain": [
       "                               id\n",
       "neighbourhood_group_cleansed     \n",
       "Other neighborhoods           794\n",
       "Capitol Hill                  567\n",
       "Downtown                      530\n",
       "Central Area                  369\n",
       "Queen Anne                    295\n",
       "Ballard                       230\n",
       "West Seattle                  203\n",
       "Rainier Valley                159\n",
       "University District           122\n",
       "Beacon Hill                   118\n",
       "Cascade                        89\n",
       "Northgate                      80\n",
       "Delridge                       79\n",
       "Lake City                      67\n",
       "Magnolia                       61\n",
       "Seward Park                    44\n",
       "Interbay                       11"
      ]
     },
     "execution_count": 48,
     "metadata": {},
     "output_type": "execute_result"
    }
   ],
   "source": [
    "# Taking the first file listings.csv and asking the following questions:\n",
    "\n",
    "columns=['id','neighbourhood_group_cleansed']\n",
    "listings_df.shape\n",
    "new_df=listings_df[columns]\n",
    "\n",
    "listings_df['neighbourhood_group_cleansed'].isnull().mean()\n",
    "\n",
    "neighbourhood_listing_df=new_df.groupby(['neighbourhood_group_cleansed']).id.count().to_frame()\n",
    "\n",
    "neighbourhood_listing_df.sort_values(by='id',ascending=False)"
   ]
  },
  {
   "cell_type": "markdown",
   "metadata": {},
   "source": [
    "# Section 6.2 - Conclusion - Question 2\n",
    "\n",
    "## 2) What are the most frequented neighborhoods in Seattle?\n",
    "\n",
    "It’s essential to process missing data for this dataset. There was 32% data missing from price column. However, it’s inline with total missing data from dataset. Since we have a lot of data, it was easy to decide to just drop the data."
   ]
  },
  {
   "cell_type": "markdown",
   "metadata": {},
   "source": [
    "# Section 3.3 - Data Preparation - Question 3\n",
    "## 3) Can we predict the price using number_of_reviews and review_score_rating?"
   ]
  },
  {
   "cell_type": "code",
   "execution_count": 49,
   "metadata": {},
   "outputs": [],
   "source": [
    "# Use these columns [number_of_reviews, review_score_rating, price]\n",
    "# Putting price into float to be able to process further\n",
    "listings_df['price'] = listings_df['price'].str.replace(',','').str.replace('$','').astype('float')"
   ]
  },
  {
   "cell_type": "code",
   "execution_count": 50,
   "metadata": {},
   "outputs": [
    {
     "name": "stdout",
     "output_type": "stream",
     "text": [
      "0.0\n"
     ]
    }
   ],
   "source": [
    "#Checking for missing data\n",
    "print(ab.check_cols_null(listings_df,'price'))"
   ]
  },
  {
   "cell_type": "code",
   "execution_count": 51,
   "metadata": {},
   "outputs": [
    {
     "name": "stdout",
     "output_type": "stream",
     "text": [
      "0.0\n"
     ]
    }
   ],
   "source": [
    "print(ab.check_cols_null(listings_df,'number_of_reviews'))\n"
   ]
  },
  {
   "cell_type": "code",
   "execution_count": 52,
   "metadata": {},
   "outputs": [
    {
     "name": "stdout",
     "output_type": "stream",
     "text": [
      "0.16946045049764275\n"
     ]
    }
   ],
   "source": [
    "print(ab.check_cols_null(listings_df,'review_scores_rating'))"
   ]
  },
  {
   "cell_type": "code",
   "execution_count": 53,
   "metadata": {},
   "outputs": [
    {
     "data": {
      "text/plain": [
       "True"
      ]
     },
     "execution_count": 53,
     "metadata": {},
     "output_type": "execute_result"
    }
   ],
   "source": [
    "listings_df.isnull().values.any()"
   ]
  },
  {
   "cell_type": "code",
   "execution_count": 54,
   "metadata": {},
   "outputs": [
    {
     "data": {
      "text/plain": [
       "(3171, 3)"
      ]
     },
     "execution_count": 54,
     "metadata": {},
     "output_type": "execute_result"
    }
   ],
   "source": [
    "# Getting the listing columns and figuring out to drop review_scores_rating null data since it's under 20% missing. \n",
    "columns=['price','number_of_reviews','review_scores_rating']\n",
    "listing_price_df=listings_df[columns]\n",
    "listing_price_df.shape\n",
    "listing_price_df.head()\n",
    "\n",
    "#Decide to drop na for review score rating\n",
    "listing_price_df=listing_price_df.dropna(subset=['review_scores_rating'])\n",
    "listing_price_df.shape"
   ]
  },
  {
   "cell_type": "markdown",
   "metadata": {},
   "source": [
    "# Section 4.3 - Data Modeling - Question 3\n",
    "## Can we predict the price using number_of_reviews and review_score_rating?"
   ]
  },
  {
   "cell_type": "code",
   "execution_count": 55,
   "metadata": {},
   "outputs": [
    {
     "data": {
      "text/plain": [
       "'The r-squared score for the model using only quantitative variables was 0.019743085600305355 on 952 values.'"
      ]
     },
     "execution_count": 55,
     "metadata": {},
     "output_type": "execute_result"
    }
   ],
   "source": [
    "# Running Linear Model\n",
    "listing_price_cols = ['number_of_reviews', 'review_scores_rating']\n",
    "test_score, train_score, lm_model, X_train, X_test, y_train, y_test, y_test_preds = ab.clean_fit_linear_mod(listing_price_df, 'price', listing_price_cols, dummy_na=False)\n",
    "\"The r-squared score for the model using only quantitative variables was {} on {} values.\".format(r2_score(y_test, y_test_preds), len(y_test))"
   ]
  },
  {
   "cell_type": "code",
   "execution_count": 56,
   "metadata": {},
   "outputs": [
    {
     "data": {
      "text/plain": [
       "'The r-squared score for the model using only quantitative variables was -1.1389076692493109e+28 on 952 values.'"
      ]
     },
     "execution_count": 56,
     "metadata": {},
     "output_type": "execute_result"
    }
   ],
   "source": [
    "# Running Linear Model\n",
    "listing_price_cols = ['number_of_reviews', 'review_scores_rating']\n",
    "test_score, train_score, lm_model, X_train, X_test, y_train, y_test, y_test_preds = ab.clean_fit_linear_mod(listing_price_df, 'price', listing_price_cols, dummy_na=True)\n",
    "\"The r-squared score for the model using only quantitative variables was {} on {} values.\".format(r2_score(y_test, y_test_preds), len(y_test))"
   ]
  },
  {
   "cell_type": "markdown",
   "metadata": {},
   "source": [
    "# Very small R-squared scores for both of the variables. Trying another way of splitting number_of_reviews and review_score_ratings into bins instead. "
   ]
  },
  {
   "cell_type": "code",
   "execution_count": 57,
   "metadata": {},
   "outputs": [
    {
     "data": {
      "text/html": [
       "<div>\n",
       "<style scoped>\n",
       "    .dataframe tbody tr th:only-of-type {\n",
       "        vertical-align: middle;\n",
       "    }\n",
       "\n",
       "    .dataframe tbody tr th {\n",
       "        vertical-align: top;\n",
       "    }\n",
       "\n",
       "    .dataframe thead th {\n",
       "        text-align: right;\n",
       "    }\n",
       "</style>\n",
       "<table border=\"1\" class=\"dataframe\">\n",
       "  <thead>\n",
       "    <tr style=\"text-align: right;\">\n",
       "      <th></th>\n",
       "      <th>price</th>\n",
       "      <th>number_of_reviews</th>\n",
       "      <th>review_scores_rating</th>\n",
       "      <th>review_scores_rating_bins</th>\n",
       "      <th>score_sentiment</th>\n",
       "    </tr>\n",
       "  </thead>\n",
       "  <tbody>\n",
       "    <tr>\n",
       "      <td>0</td>\n",
       "      <td>85.0</td>\n",
       "      <td>207</td>\n",
       "      <td>95.0</td>\n",
       "      <td>(90.0, 95.0]</td>\n",
       "      <td>Good</td>\n",
       "    </tr>\n",
       "    <tr>\n",
       "      <td>1</td>\n",
       "      <td>150.0</td>\n",
       "      <td>43</td>\n",
       "      <td>96.0</td>\n",
       "      <td>(95.0, 97.0]</td>\n",
       "      <td>Average</td>\n",
       "    </tr>\n",
       "    <tr>\n",
       "      <td>2</td>\n",
       "      <td>975.0</td>\n",
       "      <td>20</td>\n",
       "      <td>97.0</td>\n",
       "      <td>(95.0, 97.0]</td>\n",
       "      <td>Average</td>\n",
       "    </tr>\n",
       "    <tr>\n",
       "      <td>4</td>\n",
       "      <td>450.0</td>\n",
       "      <td>38</td>\n",
       "      <td>92.0</td>\n",
       "      <td>(90.0, 95.0]</td>\n",
       "      <td>Good</td>\n",
       "    </tr>\n",
       "    <tr>\n",
       "      <td>5</td>\n",
       "      <td>120.0</td>\n",
       "      <td>17</td>\n",
       "      <td>95.0</td>\n",
       "      <td>(90.0, 95.0]</td>\n",
       "      <td>Good</td>\n",
       "    </tr>\n",
       "  </tbody>\n",
       "</table>\n",
       "</div>"
      ],
      "text/plain": [
       "   price  number_of_reviews  review_scores_rating review_scores_rating_bins  \\\n",
       "0   85.0                207                  95.0              (90.0, 95.0]   \n",
       "1  150.0                 43                  96.0              (95.0, 97.0]   \n",
       "2  975.0                 20                  97.0              (95.0, 97.0]   \n",
       "4  450.0                 38                  92.0              (90.0, 95.0]   \n",
       "5  120.0                 17                  95.0              (90.0, 95.0]   \n",
       "\n",
       "  score_sentiment  \n",
       "0            Good  \n",
       "1         Average  \n",
       "2         Average  \n",
       "4            Good  \n",
       "5            Good  "
      ]
     },
     "execution_count": 57,
     "metadata": {},
     "output_type": "execute_result"
    }
   ],
   "source": [
    "#How about we split the review_scores_ratings and number of reviews into bins instead and see if processed as categorical variables, the linear model will fit better? \n",
    "\n",
    "listing_price_df['review_scores_rating']=listing_price_df['review_scores_rating'].astype('float')\n",
    "listing_price_df.head()\n",
    "listing_price_df['review_scores_rating_bins']=pd.cut(listing_price_df.review_scores_rating,bins = [0,85.0,90.0,95.0,97.0,100.0])\n",
    "listing_price_df.head()\n",
    "listing_price_df['review_scores_rating_bins'].value_counts().sort_index()\n",
    "listing_price_df['score_sentiment']=pd.cut(listing_price_df.review_scores_rating,bins = [0,85.0,90.0,95.0,97.0,100.0],labels=['Bad','Fair','Good','Average','Best'])\n",
    "listing_price_df.head()\n"
   ]
  },
  {
   "cell_type": "code",
   "execution_count": 58,
   "metadata": {},
   "outputs": [
    {
     "data": {
      "text/plain": [
       "count    3171.000000\n",
       "mean       26.751498\n",
       "std        39.914223\n",
       "min         1.000000\n",
       "25%         4.000000\n",
       "50%        13.000000\n",
       "75%        32.000000\n",
       "max       474.000000\n",
       "Name: number_of_reviews, dtype: float64"
      ]
     },
     "execution_count": 58,
     "metadata": {},
     "output_type": "execute_result"
    }
   ],
   "source": [
    "#How about we split the review_scores_ratings also into bins as well. \n",
    "\n",
    "listing_price_df['number_of_reviews']=listing_price_df['number_of_reviews'].astype('float')\n",
    "listing_price_df.head()\n",
    "listing_price_df['number_of_reviews'].describe()"
   ]
  },
  {
   "cell_type": "code",
   "execution_count": 59,
   "metadata": {},
   "outputs": [
    {
     "data": {
      "text/html": [
       "<div>\n",
       "<style scoped>\n",
       "    .dataframe tbody tr th:only-of-type {\n",
       "        vertical-align: middle;\n",
       "    }\n",
       "\n",
       "    .dataframe tbody tr th {\n",
       "        vertical-align: top;\n",
       "    }\n",
       "\n",
       "    .dataframe thead th {\n",
       "        text-align: right;\n",
       "    }\n",
       "</style>\n",
       "<table border=\"1\" class=\"dataframe\">\n",
       "  <thead>\n",
       "    <tr style=\"text-align: right;\">\n",
       "      <th></th>\n",
       "      <th>price</th>\n",
       "      <th>number_of_reviews</th>\n",
       "      <th>review_scores_rating</th>\n",
       "      <th>review_scores_rating_bins</th>\n",
       "      <th>score_sentiment</th>\n",
       "      <th>number_of_reviews_cat</th>\n",
       "    </tr>\n",
       "  </thead>\n",
       "  <tbody>\n",
       "    <tr>\n",
       "      <td>0</td>\n",
       "      <td>85.0</td>\n",
       "      <td>(0, 100]</td>\n",
       "      <td>95.0</td>\n",
       "      <td>(90.0, 95.0]</td>\n",
       "      <td>Good</td>\n",
       "      <td>None</td>\n",
       "    </tr>\n",
       "    <tr>\n",
       "      <td>1</td>\n",
       "      <td>150.0</td>\n",
       "      <td>(0, 100]</td>\n",
       "      <td>96.0</td>\n",
       "      <td>(95.0, 97.0]</td>\n",
       "      <td>Average</td>\n",
       "      <td>None</td>\n",
       "    </tr>\n",
       "    <tr>\n",
       "      <td>2</td>\n",
       "      <td>975.0</td>\n",
       "      <td>(0, 100]</td>\n",
       "      <td>97.0</td>\n",
       "      <td>(95.0, 97.0]</td>\n",
       "      <td>Average</td>\n",
       "      <td>None</td>\n",
       "    </tr>\n",
       "    <tr>\n",
       "      <td>4</td>\n",
       "      <td>450.0</td>\n",
       "      <td>(0, 100]</td>\n",
       "      <td>92.0</td>\n",
       "      <td>(90.0, 95.0]</td>\n",
       "      <td>Good</td>\n",
       "      <td>None</td>\n",
       "    </tr>\n",
       "    <tr>\n",
       "      <td>5</td>\n",
       "      <td>120.0</td>\n",
       "      <td>(0, 100]</td>\n",
       "      <td>95.0</td>\n",
       "      <td>(90.0, 95.0]</td>\n",
       "      <td>Good</td>\n",
       "      <td>None</td>\n",
       "    </tr>\n",
       "  </tbody>\n",
       "</table>\n",
       "</div>"
      ],
      "text/plain": [
       "   price number_of_reviews  review_scores_rating review_scores_rating_bins  \\\n",
       "0   85.0          (0, 100]                  95.0              (90.0, 95.0]   \n",
       "1  150.0          (0, 100]                  96.0              (95.0, 97.0]   \n",
       "2  975.0          (0, 100]                  97.0              (95.0, 97.0]   \n",
       "4  450.0          (0, 100]                  92.0              (90.0, 95.0]   \n",
       "5  120.0          (0, 100]                  95.0              (90.0, 95.0]   \n",
       "\n",
       "  score_sentiment number_of_reviews_cat  \n",
       "0            Good                  None  \n",
       "1         Average                  None  \n",
       "2         Average                  None  \n",
       "4            Good                  None  \n",
       "5            Good                  None  "
      ]
     },
     "execution_count": 59,
     "metadata": {},
     "output_type": "execute_result"
    }
   ],
   "source": [
    "listing_price_df['number_of_reviews']=pd.cut(listing_price_df.review_scores_rating,bins = [0,100,200,300,400,500])\n",
    "listing_price_df.head()\n",
    "listing_price_df['number_of_reviews'].value_counts().sort_index()\n",
    "listing_price_df['number_of_reviews_cat']=pd.cut(listing_price_df.review_scores_rating,bins = [0,100,200,300,400,500],labels=['None','Low','Low Med','Med','High'])\n",
    "listing_price_df.head()"
   ]
  },
  {
   "cell_type": "markdown",
   "metadata": {},
   "source": [
    "# Running the Linear Modelling again on both cateogrical variables. "
   ]
  },
  {
   "cell_type": "code",
   "execution_count": 60,
   "metadata": {},
   "outputs": [
    {
     "data": {
      "text/plain": [
       "'The r-squared score for the model using only quantitative variables was 0.0072219156898417625 on 952 values.'"
      ]
     },
     "execution_count": 60,
     "metadata": {},
     "output_type": "execute_result"
    }
   ],
   "source": [
    "# Running Linear Model on both categorical variables\n",
    "listing_price_df2=listing_price_df[['price','number_of_reviews_cat', 'score_sentiment']]\n",
    "listing_price_cols = ['number_of_reviews_cat', 'score_sentiment']\n",
    "test_score, train_score, lm_model, X_train, X_test, y_train, y_test, y_test_preds = ab.clean_fit_linear_mod(listing_price_df2, 'price', listing_price_cols, dummy_na=True)\n",
    "\"The r-squared score for the model using only quantitative variables was {} on {} values.\".format(r2_score(y_test, y_test_preds), len(y_test))"
   ]
  },
  {
   "cell_type": "code",
   "execution_count": 62,
   "metadata": {},
   "outputs": [
    {
     "data": {
      "text/plain": [
       "'The r-squared score for the model using only quantitative variables was 0.0072219156898417625 on 952 values.'"
      ]
     },
     "execution_count": 62,
     "metadata": {},
     "output_type": "execute_result"
    }
   ],
   "source": [
    "# Running Linear Model on number_of_reviews before bins and score_sentiment after binning\n",
    "listing_price_df2=listing_price_df[['price','number_of_reviews','score_sentiment']]\n",
    "listing_price_cols = ['number_of_reviews','score_sentiment']\n",
    "test_score, train_score, lm_model, X_train, X_test, y_train, y_test, y_test_preds = ab.clean_fit_linear_mod(listing_price_df2, 'price', listing_price_cols, dummy_na=True)\n",
    "\"The r-squared score for the model using only quantitative variables was {} on {} values.\".format(r2_score(y_test, y_test_preds), len(y_test))"
   ]
  },
  {
   "cell_type": "markdown",
   "metadata": {},
   "source": [
    "# As seen from above, categorical variables don't work well with linear models with the y is continuous, such as price. How about trying logistic regression instead. \n",
    "## Reframe the question: Can we predict price \"high\" or \"low\" with binned number_of_reviews and review_scores? "
   ]
  },
  {
   "cell_type": "code",
   "execution_count": 65,
   "metadata": {},
   "outputs": [
    {
     "name": "stderr",
     "output_type": "stream",
     "text": [
      "/Users/junwu/opt/anaconda3/lib/python3.7/site-packages/ipykernel_launcher.py:4: SettingWithCopyWarning: \n",
      "A value is trying to be set on a copy of a slice from a DataFrame.\n",
      "Try using .loc[row_indexer,col_indexer] = value instead\n",
      "\n",
      "See the caveats in the documentation: http://pandas.pydata.org/pandas-docs/stable/user_guide/indexing.html#returning-a-view-versus-a-copy\n",
      "  after removing the cwd from sys.path.\n"
     ]
    },
    {
     "data": {
      "text/plain": [
       "(0, 128]       2084\n",
       "(128, 1000]    1087\n",
       "Name: price_bins, dtype: int64"
      ]
     },
     "execution_count": 65,
     "metadata": {},
     "output_type": "execute_result"
    }
   ],
   "source": [
    "# Since we've binned variables that are now categorical, we can try using the logistic regression instead of a linear model. Instead of predicting the price as a quantitative number, we can see if we can predict price as High or Low. \n",
    "listing_price_df2=listing_price_df[['price','number_of_reviews_cat', 'score_sentiment']]\n",
    "listing_price_df2['price'].describe()\n",
    "listing_price_df2['price_bins']=pd.cut(listing_price_df.price,bins = [0,128,1000])\n",
    "listing_price_df2['price_bins'].value_counts().sort_index()\n"
   ]
  },
  {
   "cell_type": "code",
   "execution_count": 66,
   "metadata": {},
   "outputs": [
    {
     "name": "stderr",
     "output_type": "stream",
     "text": [
      "/Users/junwu/opt/anaconda3/lib/python3.7/site-packages/ipykernel_launcher.py:2: SettingWithCopyWarning: \n",
      "A value is trying to be set on a copy of a slice from a DataFrame.\n",
      "Try using .loc[row_indexer,col_indexer] = value instead\n",
      "\n",
      "See the caveats in the documentation: http://pandas.pydata.org/pandas-docs/stable/user_guide/indexing.html#returning-a-view-versus-a-copy\n",
      "  \n"
     ]
    },
    {
     "data": {
      "text/html": [
       "<div>\n",
       "<style scoped>\n",
       "    .dataframe tbody tr th:only-of-type {\n",
       "        vertical-align: middle;\n",
       "    }\n",
       "\n",
       "    .dataframe tbody tr th {\n",
       "        vertical-align: top;\n",
       "    }\n",
       "\n",
       "    .dataframe thead th {\n",
       "        text-align: right;\n",
       "    }\n",
       "</style>\n",
       "<table border=\"1\" class=\"dataframe\">\n",
       "  <thead>\n",
       "    <tr style=\"text-align: right;\">\n",
       "      <th></th>\n",
       "      <th>price</th>\n",
       "      <th>number_of_reviews_cat</th>\n",
       "      <th>score_sentiment</th>\n",
       "      <th>price_bins</th>\n",
       "      <th>price_hi_low</th>\n",
       "    </tr>\n",
       "  </thead>\n",
       "  <tbody>\n",
       "    <tr>\n",
       "      <td>0</td>\n",
       "      <td>85.0</td>\n",
       "      <td>None</td>\n",
       "      <td>Good</td>\n",
       "      <td>(0, 128]</td>\n",
       "      <td>0</td>\n",
       "    </tr>\n",
       "    <tr>\n",
       "      <td>1</td>\n",
       "      <td>150.0</td>\n",
       "      <td>None</td>\n",
       "      <td>Average</td>\n",
       "      <td>(128, 1000]</td>\n",
       "      <td>1</td>\n",
       "    </tr>\n",
       "    <tr>\n",
       "      <td>2</td>\n",
       "      <td>975.0</td>\n",
       "      <td>None</td>\n",
       "      <td>Average</td>\n",
       "      <td>(128, 1000]</td>\n",
       "      <td>1</td>\n",
       "    </tr>\n",
       "    <tr>\n",
       "      <td>4</td>\n",
       "      <td>450.0</td>\n",
       "      <td>None</td>\n",
       "      <td>Good</td>\n",
       "      <td>(128, 1000]</td>\n",
       "      <td>1</td>\n",
       "    </tr>\n",
       "    <tr>\n",
       "      <td>5</td>\n",
       "      <td>120.0</td>\n",
       "      <td>None</td>\n",
       "      <td>Good</td>\n",
       "      <td>(0, 128]</td>\n",
       "      <td>0</td>\n",
       "    </tr>\n",
       "  </tbody>\n",
       "</table>\n",
       "</div>"
      ],
      "text/plain": [
       "   price number_of_reviews_cat score_sentiment   price_bins price_hi_low\n",
       "0   85.0                  None            Good     (0, 128]            0\n",
       "1  150.0                  None         Average  (128, 1000]            1\n",
       "2  975.0                  None         Average  (128, 1000]            1\n",
       "4  450.0                  None            Good  (128, 1000]            1\n",
       "5  120.0                  None            Good     (0, 128]            0"
      ]
     },
     "execution_count": 66,
     "metadata": {},
     "output_type": "execute_result"
    }
   ],
   "source": [
    "#binning the price as either high or low to setup for logistic regression\n",
    "listing_price_df2['price_hi_low']=pd.cut(listing_price_df2.price,bins = [0,128,1000],labels=[0,1])\n",
    "listing_price_df2.head()"
   ]
  },
  {
   "cell_type": "code",
   "execution_count": 67,
   "metadata": {},
   "outputs": [
    {
     "data": {
      "text/html": [
       "<div>\n",
       "<style scoped>\n",
       "    .dataframe tbody tr th:only-of-type {\n",
       "        vertical-align: middle;\n",
       "    }\n",
       "\n",
       "    .dataframe tbody tr th {\n",
       "        vertical-align: top;\n",
       "    }\n",
       "\n",
       "    .dataframe thead th {\n",
       "        text-align: right;\n",
       "    }\n",
       "</style>\n",
       "<table border=\"1\" class=\"dataframe\">\n",
       "  <thead>\n",
       "    <tr style=\"text-align: right;\">\n",
       "      <th></th>\n",
       "      <th>price_hi_low</th>\n",
       "      <th>score_sentiment_Fair</th>\n",
       "      <th>score_sentiment_Good</th>\n",
       "      <th>score_sentiment_Average</th>\n",
       "      <th>score_sentiment_Best</th>\n",
       "      <th>score_sentiment_nan</th>\n",
       "    </tr>\n",
       "  </thead>\n",
       "  <tbody>\n",
       "    <tr>\n",
       "      <td>0</td>\n",
       "      <td>0</td>\n",
       "      <td>0</td>\n",
       "      <td>1</td>\n",
       "      <td>0</td>\n",
       "      <td>0</td>\n",
       "      <td>0</td>\n",
       "    </tr>\n",
       "    <tr>\n",
       "      <td>1</td>\n",
       "      <td>1</td>\n",
       "      <td>0</td>\n",
       "      <td>0</td>\n",
       "      <td>1</td>\n",
       "      <td>0</td>\n",
       "      <td>0</td>\n",
       "    </tr>\n",
       "    <tr>\n",
       "      <td>2</td>\n",
       "      <td>1</td>\n",
       "      <td>0</td>\n",
       "      <td>0</td>\n",
       "      <td>1</td>\n",
       "      <td>0</td>\n",
       "      <td>0</td>\n",
       "    </tr>\n",
       "    <tr>\n",
       "      <td>4</td>\n",
       "      <td>1</td>\n",
       "      <td>0</td>\n",
       "      <td>1</td>\n",
       "      <td>0</td>\n",
       "      <td>0</td>\n",
       "      <td>0</td>\n",
       "    </tr>\n",
       "    <tr>\n",
       "      <td>5</td>\n",
       "      <td>0</td>\n",
       "      <td>0</td>\n",
       "      <td>1</td>\n",
       "      <td>0</td>\n",
       "      <td>0</td>\n",
       "      <td>0</td>\n",
       "    </tr>\n",
       "  </tbody>\n",
       "</table>\n",
       "</div>"
      ],
      "text/plain": [
       "  price_hi_low  score_sentiment_Fair  score_sentiment_Good  \\\n",
       "0            0                     0                     1   \n",
       "1            1                     0                     0   \n",
       "2            1                     0                     0   \n",
       "4            1                     0                     1   \n",
       "5            0                     0                     1   \n",
       "\n",
       "   score_sentiment_Average  score_sentiment_Best  score_sentiment_nan  \n",
       "0                        0                     0                    0  \n",
       "1                        1                     0                    0  \n",
       "2                        1                     0                    0  \n",
       "4                        0                     0                    0  \n",
       "5                        0                     0                    0  "
      ]
     },
     "execution_count": 67,
     "metadata": {},
     "output_type": "execute_result"
    }
   ],
   "source": [
    "# Running logistic regression on score_sentiment against price_high_low\n",
    "cat_cols=['score_sentiment']\n",
    "df=ab.create_dummy_df(listing_price_df2, cat_cols, 'True')\n",
    "df.head()\n",
    "df.drop(['price','price_bins','number_of_reviews_cat'], axis = 1, inplace = True)\n",
    "df.head()"
   ]
  },
  {
   "cell_type": "code",
   "execution_count": 68,
   "metadata": {},
   "outputs": [
    {
     "name": "stderr",
     "output_type": "stream",
     "text": [
      "/Users/junwu/opt/anaconda3/lib/python3.7/site-packages/sklearn/linear_model/logistic.py:432: FutureWarning: Default solver will be changed to 'lbfgs' in 0.22. Specify a solver to silence this warning.\n",
      "  FutureWarning)\n"
     ]
    }
   ],
   "source": [
    "# Running Logistic Regression\n",
    "y_data=df['price_hi_low']\n",
    "x_data=df.drop('price_hi_low', axis=1)\n",
    "from sklearn.model_selection import train_test_split\n",
    "x_training_data, x_test_data, y_training_data, y_test_data = train_test_split(x_data, y_data, test_size = 0.3)\n",
    "#Create the model\n",
    "from sklearn.linear_model import LogisticRegression\n",
    "model = LogisticRegression()\n",
    "#Train the model and create predictions\n",
    "model.fit(x_training_data, y_training_data)\n",
    "predictions = model.predict(x_test_data)"
   ]
  },
  {
   "cell_type": "markdown",
   "metadata": {},
   "source": [
    "# Section 5.3 - Evaluate the Results - Question 3 reframed.\n",
    "## Can we predict price \"high\" or \"low\" with binned number_of_reviews and review_scores?"
   ]
  },
  {
   "cell_type": "code",
   "execution_count": 69,
   "metadata": {},
   "outputs": [
    {
     "name": "stdout",
     "output_type": "stream",
     "text": [
      "              precision    recall  f1-score   support\n",
      "\n",
      "           0       0.64      1.00      0.78       608\n",
      "           1       0.00      0.00      0.00       344\n",
      "\n",
      "    accuracy                           0.64       952\n",
      "   macro avg       0.32      0.50      0.39       952\n",
      "weighted avg       0.41      0.64      0.50       952\n",
      "\n",
      "[[608   0]\n",
      " [344   0]]\n"
     ]
    },
    {
     "name": "stderr",
     "output_type": "stream",
     "text": [
      "/Users/junwu/opt/anaconda3/lib/python3.7/site-packages/sklearn/metrics/classification.py:1437: UndefinedMetricWarning: Precision and F-score are ill-defined and being set to 0.0 in labels with no predicted samples.\n",
      "  'precision', 'predicted', average, warn_for)\n"
     ]
    }
   ],
   "source": [
    "#Calculate performance metrics\n",
    "from sklearn.metrics import classification_report\n",
    "print(classification_report(y_test_data, predictions))\n",
    "#Generate a confusion matrix\n",
    "from sklearn.metrics import confusion_matrix\n",
    "print(confusion_matrix(y_test_data, predictions))"
   ]
  },
  {
   "cell_type": "code",
   "execution_count": 121,
   "metadata": {},
   "outputs": [
    {
     "data": {
      "image/png": "[encoded data removed]",
      "text/plain": [
       "<Figure size 432x288 with 1 Axes>"
      ]
     },
     "metadata": {
      "needs_background": "light"
     },
     "output_type": "display_data"
    }
   ],
   "source": [
    "#Graphing the auc curve - the model is not significant since AUC = 0.5\n",
    "fpr, tpr, _ = roc_curve(y_test_data,predictions)\n",
    "auc = roc_auc_score(y_test_data, predictions)\n",
    "plt.plot(fpr,tpr,label=\"data 1, auc=\"+str(auc))\n",
    "plt.legend(loc=4)\n",
    "plt.show()"
   ]
  },
  {
   "cell_type": "markdown",
   "metadata": {},
   "source": [
    "# Section 6.3 - Conclusion \n",
    "\n",
    "## Question 3:\n",
    "\n",
    "3) Can we predict the price using number_of_reviews and review_score_rating?\n",
    "\n",
    "We used three approaches: \n",
    "\n",
    "a) using linear model: y=price, x=number_of_reviews, review_score_rating\n",
    "\n",
    "R-squared scores are too low to be significant. \n",
    "\n",
    "“The r-squared score for the model using only quantitative variables was 0.019743 on 952 values.”\n",
    "\n",
    "b) using categorical binned variables of number_of_reviews[0,100,200,300,400,500]=[‘None’,’Low’,’Low Med’,’Med’,’High’] and review_score_rating [0,100,200,300,400,500]=[‘None’,’Low’,’Low Med’,’Med’,’High’] on a linear model against y=price. \n",
    "\n",
    "R-squared scores are too low or even worse than before. Linear models should be used on contineous variables. \n",
    "\n",
    "c) using logistic regression and reframing the question to the following:\n",
    "\n",
    "Can we predict price \"high\" or \"low\" with binned number_of_reviews and review_scores?\n",
    "\n",
    "The AUC for the model is 0.5 which means we can't use the model, the data may be insufficient to answer the question. \n",
    "\n"
   ]
  },
  {
   "cell_type": "code",
   "execution_count": null,
   "metadata": {},
   "outputs": [],
   "source": []
  }
 ],
 "metadata": {
  "kernelspec": {
   "display_name": "Python 3",
   "language": "python",
   "name": "python3"
  },
  "language_info": {
   "codemirror_mode": {
    "name": "ipython",
    "version": 3
   },
   "file_extension": ".py",
   "mimetype": "text/x-python",
   "name": "python",
   "nbconvert_exporter": "python",
   "pygments_lexer": "ipython3",
   "version": "3.7.4"
  }
 },
 "nbformat": 4,
 "nbformat_minor": 4
}
